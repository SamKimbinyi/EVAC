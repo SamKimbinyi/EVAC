{
 "cells": [
  {
   "cell_type": "markdown",
   "metadata": {},
   "source": [
    "# Post workshop 6B walkthrough: Evolving an AI to play Pong"
   ]
  },
  {
   "cell_type": "code",
   "execution_count": 1,
   "metadata": {},
   "outputs": [],
   "source": [
    "from turtle import Turtle, Screen, Shape\n",
    "import random\n",
    "import math\n",
    "from datetime import datetime\n",
    "import numpy as np"
   ]
  },
  {
   "cell_type": "code",
   "execution_count": 2,
   "metadata": {},
   "outputs": [],
   "source": [
    "class UndrawnTurtle(): # We use this to keep track of the turtles without having to draw them\n",
    "    def __init__(self):\n",
    "        self.x, self.y, self.x_prev, self.y_prev, self.angle = 0.0, 0.0, 0.0, 0.0, 0.0\n",
    "\n",
    "    def position(self):\n",
    "        return self.x, self.y\n",
    "\n",
    "    def xcor(self):\n",
    "        return self.x\n",
    "\n",
    "    def ycor(self):\n",
    "        return self.y\n",
    "\n",
    "    def xcor_prev(self):\n",
    "        return self.x_prev\n",
    "\n",
    "    def ycor_prev(self):\n",
    "        self.y_prev = self.y\n",
    "        return self.y_prev\n",
    "    \n",
    "    def setx(self, xcor):\n",
    "        self.x_prev = self.x\n",
    "        self.x = xcor\n",
    "\n",
    "    def sety(self, ycor):\n",
    "        self.y = ycor\n",
    "    \n",
    "    def forward(self, distance):\n",
    "        angle_radians = math.radians(self.angle)\n",
    "        self.x_prev = self.x\n",
    "        self.y_prev = self.y\n",
    "        self.x += math.cos(angle_radians) * distance\n",
    "        self.y += math.sin(angle_radians) * distance\n",
    "\n",
    "    def backward(self, distance):\n",
    "        self.forward(-distance)\n",
    "\n",
    "    def right(self, angle):\n",
    "        self.angle -= angle\n",
    "\n",
    "    def left(self, angle):\n",
    "        self.angle += angle\n",
    "\n",
    "    def setpos(self, x, y = None):\n",
    "        # Can be passed either a tuple or two numbers\n",
    "        self.x_prev = self.x\n",
    "        self.y_prev = self.y\n",
    "        if y == None:\n",
    "            self.x = x[0]\n",
    "            self.y = y[1]\n",
    "        else:\n",
    "            self.x = x\n",
    "            self.y = y"
   ]
  },
  {
   "cell_type": "markdown",
   "metadata": {},
   "source": [
    "# This is the class containing all the game code"
   ]
  },
  {
   "cell_type": "code",
   "execution_count": 3,
   "metadata": {},
   "outputs": [],
   "source": [
    "class DisplayGame:\n",
    "        \n",
    "    def __init__(self, window_height, window_width, bat_w_half, bat_h_half):\n",
    "        # SCREEN\n",
    "        self.screen = Screen()\n",
    "        self.screen.setup(window_height, window_width)   # width, height\n",
    "        self.screen.tracer(0)         # We will handle displaying of frames ourselves\n",
    "\n",
    "        # PLAY ARENA\n",
    "        self.play_top    = window_height / 2 - 80    # top of screen minus 100 units\n",
    "        self.play_bottom = -window_height / 2 + 80   # 100 from bottom\n",
    "        self.play_left   = -window_width / 2 + 50    # 50 from left\n",
    "        self.play_right  = window_width / 2 - 50     # 50 from right\n",
    "\n",
    "        self.area = Turtle()\n",
    "        self.area.hideturtle()\n",
    "\n",
    "        # batS\n",
    "        self.L = Turtle()\n",
    "        self.R = Turtle()\n",
    "        self.L.penup()\n",
    "        self.R.penup()\n",
    "\n",
    "        # bats shape\n",
    "        self.bat_shape = Shape(\"compound\")\n",
    "        self.bat_points = ((-bat_h_half, -bat_w_half),\n",
    "                         (-bat_h_half, bat_w_half),\n",
    "                         (bat_h_half, bat_w_half),\n",
    "                         (bat_h_half, -bat_w_half))\n",
    "        self.bat_shape.addcomponent(self.bat_points, \"blue\")\n",
    "        self.screen.register_shape(\"bat\", self.bat_shape)\n",
    "        self.L.shape(\"bat\")\n",
    "        self.R.shape(\"bat\")\n",
    "\n",
    "        # SCORE\n",
    "        self.score_turtle = Turtle()\n",
    "        self.score_turtle.penup()\n",
    "        self.score_turtle.hideturtle()\n",
    "\n",
    "        # BALL\n",
    "        self.ball = Turtle()\n",
    "        self.ball.penup()\n",
    "        self.ball.shape(\"circle\")        # Use the built-in shape \"circle\"\n",
    "        self.ball.color(\"blue\")\n",
    "        self.ball.shapesize( 0.5, 0.5)   # Stretch it to half default size\n",
    "\n",
    "        self.reset()\n",
    "\n",
    "    def reset(self):\n",
    "        \n",
    "        self.area.penup()\n",
    "        self.area.goto(self.play_right, self.play_top)\n",
    "        self.area.pendown()\n",
    "        self.area.goto(self.play_left, self.play_top)\n",
    "        self.area.goto(self.play_left, self.play_bottom)\n",
    "        self.area.goto(self.play_right, self.play_bottom)\n",
    "        self.area.goto(self.play_right, self.play_top)\n",
    "        \n",
    "         # Move bats into position\n",
    "        self.L.setx(self.play_left + 10)\n",
    "        self.R.setx(self.play_right - 10)\n",
    "        \n",
    "        self.update_score(0,0)\n",
    "        self.screen.update()\n",
    "        \n",
    "    def update_ball_position(self, ball_x_pos, ball_y_pos):\n",
    "        self.ball.setpos(ball_x_pos, ball_y_pos)\n",
    "        \n",
    "    def update_L_bat_position(self, L_x_pos, L_y_pos):\n",
    "        self.L.setpos(L_x_pos, L_y_pos)\n",
    "\n",
    "    def update_R_bat_position(self, R_x_pos, R_y_pos):\n",
    "        self.R.setpos(R_x_pos, R_y_pos)\n",
    "\n",
    "    def update_score(self, L_score, R_score):\n",
    "        self.score_turtle.clear()\n",
    "        self.score_turtle.goto(-self.screen.window_width()/4, self.screen.window_height()/2 - 40)\n",
    "        self.score_turtle.write(L_score, align=\"center\", font=(\"Arial\", 32, \"bold\"))\n",
    "        self.score_turtle.goto(self.screen.window_width()/4, self.screen.window_height()/2 - 40)\n",
    "        self.score_turtle.write(R_score, align=\"center\", font=(\"Arial\", 32, \"bold\"))"
   ]
  },
  {
   "cell_type": "code",
   "execution_count": 4,
   "metadata": {},
   "outputs": [],
   "source": [
    "class Pong:\n",
    "        \n",
    "    def __init__(self):\n",
    "\n",
    "        self.window_height = 600\n",
    "        self.window_width = 550\n",
    "        \n",
    "        # PLAY ARENA\n",
    "        self.play_top    = self.window_height / 2 - 80    # top of screen minus 100 units\n",
    "        self.play_bottom = -self.window_height / 2 + 80   # 100 from bottom\n",
    "        self.play_left   = -self.window_width / 2 + 50    # 50 from left\n",
    "        self.play_right  = self.window_width / 2 - 50     # 50 from right\n",
    "\n",
    "        self.area = UndrawnTurtle()\n",
    "\n",
    "        # batS\n",
    "        self.L = UndrawnTurtle()\n",
    "        self.R = UndrawnTurtle()\n",
    "\n",
    "        # bat size\n",
    "        self.bat_w_half = 5  \n",
    "        self.bat_h_half = 35\n",
    "\n",
    "        # BALL\n",
    "        self.ball = UndrawnTurtle()\n",
    "        self.ball_radius = 10 * 0.5\n",
    "\n",
    "        self.ball_move_horiz = 0          # current x speed    \n",
    "        self.ball_move_vert  = 0          # current y speed\n",
    "        self.slow_ball_speed = 3\n",
    "        self.fast_ball_speed = self.slow_ball_speed * 2\n",
    "\n",
    "        self.ball_speed = self.slow_ball_speed\n",
    "        self.maxBounceAngleRadians = 1.04 # ~60 degrees\n",
    "\n",
    "        self.reset()\n",
    "\n",
    "    def reset(self):\n",
    "              \n",
    "         # Move bats into position\n",
    "        self.L.setx(self.play_left + 10)\n",
    "        self.R.setx(self.play_right - 10)\n",
    "\n",
    "        self.bat_L_move_direction = 0   # L bat movement direction in next frame\n",
    "        self.bat_R_move_direction = 0   # R bat movement direction in next frame\n",
    "        \n",
    "        self.bat_move_vert = 5\n",
    "        \n",
    "        self.score_L = 0\n",
    "        self.score_R = 0\n",
    "        \n",
    "        if random.random() > 0.5:\n",
    "            self.direction_horiz = 1\n",
    "        else:\n",
    "            self.direction_horiz = -1\n",
    "            \n",
    "        self.start_ball_direction = self.direction_horiz\n",
    "       \n",
    "        self.reset_ball()\n",
    "        \n",
    "    def bat_is_allowed_to_move_here(self, new_y_pos):\n",
    "        if (self.play_bottom > new_y_pos - self.bat_h_half) : \n",
    "            return False\n",
    "        if (new_y_pos + self.bat_h_half > self.play_top) :   \n",
    "            return False\n",
    "        return True\n",
    "\n",
    "    def update_bat_positions(self):\n",
    "        L_new_y_pos = self.L.ycor() + (self.bat_L_move_direction * self.bat_move_vert)\n",
    "        R_new_y_pos = self.R.ycor() + (self.bat_R_move_direction * self.bat_move_vert)\n",
    "        if self.bat_is_allowed_to_move_here(L_new_y_pos):\n",
    "            self.L.sety( L_new_y_pos )\n",
    "        if self.bat_is_allowed_to_move_here(R_new_y_pos):\n",
    "            self.R.sety( R_new_y_pos )\n",
    "\n",
    "    def L_up(self):\n",
    "        self.bat_L_move_direction = 1\n",
    "\n",
    "    def L_down(self):\n",
    "        self.bat_L_move_direction = -1\n",
    "\n",
    "    def L_off(self):\n",
    "        self.bat_L_move_direction = 0\n",
    "\n",
    "    def R_up(self):\n",
    "        self.bat_R_move_direction = 1\n",
    "\n",
    "    def R_down(self):\n",
    "        self.bat_R_move_direction = -1\n",
    "\n",
    "    def R_off(self):\n",
    "        self.bat_R_move_direction = 0\n",
    "\n",
    "    def check_if_someone_scores(self):\n",
    "        if (self.ball.xcor() + self.ball_radius) >= self.play_right:\n",
    "            self.score_L += 1\n",
    "            self.reset_ball()\n",
    "            return True\n",
    "        elif self.play_left >= (self.ball.xcor() - self.ball_radius):  \n",
    "            self.score_R += 1\n",
    "            self.reset_ball()\n",
    "            return True\n",
    "        else:\n",
    "            return False\n",
    "\n",
    "    def ball_collides_with_bat(self, bat):\n",
    "        self.ball_speed = self.fast_ball_speed              # Set it to full speed after the first hit\n",
    "        x_distance = abs(bat.xcor() - self.ball.xcor())\n",
    "        y_distance = abs(bat.ycor() - self.ball.ycor())\n",
    "        overlap_horizontally = (self.ball_radius + self.bat_w_half >= x_distance) \n",
    "        overlap_vertically   = (self.ball_radius + self.bat_h_half >= y_distance) \n",
    "        return overlap_horizontally and overlap_vertically         \n",
    "  \n",
    "    def update_ball_position(self):\n",
    "        if (self.ball.ycor() + self.ball_radius > self.play_top) and (self.ball_move_vert > 0): \n",
    "            self.ball_move_vert *= -1\n",
    "        elif (self.play_bottom > self.ball.ycor() - self.ball_radius) and (self.ball_move_vert < 0):  \n",
    "            self.ball_move_vert *= -1\n",
    "            \n",
    "        if self.ball_collides_with_bat(self.L) and self.ball_move_horiz < 0:\n",
    "            relativeIntersectY = self.ball.ycor() - self.L.ycor()\n",
    "            normalizedRelativeIntersectionY = (relativeIntersectY / self.bat_h_half)\n",
    "            bounceAngle = normalizedRelativeIntersectionY * self.maxBounceAngleRadians\n",
    "            self.ball_move_vert = self.ball_speed * math.sin(bounceAngle)\n",
    "            self.ball_move_horiz = self.ball_speed * math.cos(bounceAngle)\n",
    "        elif self.ball_collides_with_bat(self.R) and self.ball_move_horiz > 0:\n",
    "            relativeIntersectY = self.ball.ycor() - self.R.ycor()\n",
    "            normalizedRelativeIntersectionY = (relativeIntersectY / self.bat_h_half)\n",
    "            bounceAngle = normalizedRelativeIntersectionY * self.maxBounceAngleRadians\n",
    "            self.ball_move_vert = self.ball_speed * math.sin(bounceAngle)\n",
    "            self.ball_move_horiz = self.ball_speed * -math.cos(bounceAngle)\n",
    "\n",
    "        self.ball.setx(self.ball.xcor() + self.ball_move_horiz)\n",
    "        self.ball.sety(self.ball.ycor() + self.ball_move_vert)\n",
    "\n",
    "    def reset_ball(self):     \n",
    "        self.ball_speed = self.slow_ball_speed\n",
    "        \n",
    "        if self.start_ball_direction == 1:\n",
    "            self.direction_horiz = -1\n",
    "            self.start_ball_direction = -1\n",
    "            self.ball.setpos((self.window_width / 2) - 100, (self.window_height / 2) - 50)\n",
    "        else:\n",
    "            self.direction_horiz = 1\n",
    "            self.start_ball_direction = 1\n",
    "            self.ball.setpos((-self.window_width / 2) + 100, (self.window_height / 2) - 50)          \n",
    "\n",
    "        bounceAngle = random.uniform(0.2, self.maxBounceAngleRadians)\n",
    "        \n",
    "        self.ball_move_vert = self.ball_speed * math.sin(bounceAngle)\n",
    "        self.ball_move_horiz = self.ball_speed * (self.direction_horiz*math.cos(bounceAngle))\n",
    "        \n",
    "    def L_move_AI(self): # Simple AI for moving the left bat\n",
    "        if self.ball.xcor() < 60:\n",
    "            if self.L.ycor() < (self.ball.ycor() -40 ):\n",
    "                self.bat_L_move_direction = 1\n",
    "            elif self.L.ycor() > (self.ball.ycor() + 40 ):\n",
    "                self.bat_L_move_direction = -1\n",
    "            else:\n",
    "                self.bat_L_move_direction = 0\n",
    "                \n",
    "    def R_move_AI_hand_coded(self): # Simple AI for moving the right bat\n",
    "        if self.ball.xcor() > -60:\n",
    "            if self.R.ycor() < (self.ball.ycor() -35 ):\n",
    "                self.bat_R_move_direction = 1\n",
    "            elif self.R.ycor() > (self.ball.ycor() + 35 ):\n",
    "                self.bat_R_move_direction = -1\n",
    "            else:\n",
    "                self.bat_R_move_direction = 0  \n",
    "\n",
    "    def R_move_AI(self, AIbrain):\n",
    "        output = AIbrain.feedForward( [self.ball.ycor(), self.ball.xcor(), self.ball.ycor_prev(), self.ball.xcor_prev(), self.R.ycor() ] )\n",
    "        decision = np.argmax(output, axis=0)\n",
    "        if decision == 1:\n",
    "            self.bat_R_move_direction = 1\n",
    "        elif decision == 2:\n",
    "            self.bat_R_move_direction = -1"
   ]
  },
  {
   "cell_type": "code",
   "execution_count": 5,
   "metadata": {},
   "outputs": [],
   "source": [
    "def playGame(AIbrain, headless=False, maxTimesteps=1000): # Pass your evolved AI in to here\n",
    "\n",
    "    pongGame.reset()\n",
    "    running = True\n",
    "    timesteps = 0\n",
    "    if not headless:\n",
    "        pongDisplay = DisplayGame(pongGame.window_height, pongGame.window_width, pongGame.bat_w_half, pongGame.bat_h_half)\n",
    "        \n",
    "    for timesteps in range( maxTimesteps ):\n",
    "        pongGame.L_move_AI()\n",
    "        pongGame.R_move_AI(AIbrain)\n",
    "        pongGame.update_bat_positions()\n",
    "        pongGame.update_ball_position()          \n",
    "        score_changed = pongGame.check_if_someone_scores()\n",
    "\n",
    "        # Let your algorithm decide on its move here (the options are L.up, L.down, or L.off)\n",
    "        if not headless:\n",
    "            pongDisplay.update_ball_position( pongGame.ball.xcor(), pongGame.ball.ycor() )\n",
    "            pongDisplay.update_L_bat_position( pongGame.L.xcor(), pongGame.L.ycor() )\n",
    "            pongDisplay.update_R_bat_position( pongGame.R.xcor(), pongGame.R.ycor() )\n",
    "            if score_changed: pongDisplay.update_score( pongGame.score_L, pongGame.score_R)\n",
    "            pongDisplay.screen.update()\n",
    "\n",
    "    #print(\"Game Over! Scores - L: \", pongGame.score_L, \" R: \", pongGame.score_R)\n",
    "    #if not headless: TK.mainloop() # terminate window\n",
    "    return( (pongGame.score_R - pongGame.score_L) )"
   ]
  },
  {
   "cell_type": "code",
   "execution_count": 6,
   "metadata": {},
   "outputs": [],
   "source": [
    "# for running the game with hand-coded AI\n",
    "def playGame2(headless=False, maxTimesteps=1000): # Pass your evolved AI in to here\n",
    "\n",
    "    pongGame.reset()\n",
    "    running = True\n",
    "    timesteps = 0\n",
    "    if not headless:\n",
    "        pongDisplay = DisplayGame(pongGame.window_height, pongGame.window_width, pongGame.bat_w_half, pongGame.bat_h_half)\n",
    "        \n",
    "    for timesteps in range( maxTimesteps ):\n",
    "        pongGame.L_move_AI()\n",
    "        pongGame.R_move_AI_hand_coded()\n",
    "        pongGame.update_bat_positions()\n",
    "        pongGame.update_ball_position()          \n",
    "        score_changed = pongGame.check_if_someone_scores()\n",
    "\n",
    "        # Let your algorithm decide on its move here (the options are L.up, L.down, or L.off)\n",
    "        if not headless:\n",
    "            pongDisplay.update_ball_position( pongGame.ball.xcor(), pongGame.ball.ycor() )\n",
    "            pongDisplay.update_L_bat_position( pongGame.L.xcor(), pongGame.L.ycor() )\n",
    "            pongDisplay.update_R_bat_position( pongGame.R.xcor(), pongGame.R.ycor() )\n",
    "            if score_changed: pongDisplay.update_score( pongGame.score_L, pongGame.score_R)\n",
    "            pongDisplay.screen.update()\n",
    "\n",
    "    #print(\"Game Over! Scores - L: \", pongGame.score_L, \" R: \", pongGame.score_R)\n",
    "    #if not headless: TK.mainloop() # terminate window\n",
    "    return( (pongGame.score_R - pongGame.score_L) )"
   ]
  },
  {
   "cell_type": "code",
   "execution_count": 7,
   "metadata": {},
   "outputs": [],
   "source": [
    "# Play the hand-coded AI\n",
    "#pongGame = Pong()\n",
    "#playGame2(headless=False, maxTimesteps=5000)"
   ]
  },
  {
   "cell_type": "code",
   "execution_count": 8,
   "metadata": {},
   "outputs": [],
   "source": [
    "class MLP(object):\n",
    "    def __init__(self, numInput, numHidden1, numHidden2, numOutput):\n",
    "        self.fitness = 0\n",
    "        self.numInput = numInput + 1 # Add bias node from input to hidden layer 1 only\n",
    "        self.numHidden1 = numHidden1 # Feel free to adapt the code to add more biases if you wish\n",
    "        self.numHidden2 = numHidden2\n",
    "        self.numOutput = numOutput\n",
    "\n",
    "        self.w_i_h1 = np.random.randn(self.numHidden1, self.numInput) \n",
    "        self.w_h1_h2 = np.random.randn(self.numHidden2, self.numHidden1) \n",
    "        self.w_h2_o = np.random.randn(self.numOutput, self.numHidden2)\n",
    "\n",
    "        self.ReLU = lambda x : max(0,x)\n",
    "\n",
    "    def softmax(self, x):\n",
    "        e_x = np.exp(x - np.max(x))\n",
    "        return e_x / e_x.sum()\n",
    "    \n",
    "    def feedForward(self, inputs):\n",
    "        inputsBias = inputs[:]\n",
    "        inputsBias.insert(len(inputs),1)             # Add bias input\n",
    "\n",
    "        h1 = np.dot(self.w_i_h1, inputsBias)         # feed input to hidden layer 1\n",
    "        h1 = [self.ReLU(x) for x in h1]              # Activate hidden layer1\n",
    "        \n",
    "        h2 = np.dot(self.w_h1_h2, h1)                 # feed layer 1 to hidden layer 2\n",
    "        h2 = [self.ReLU(x) for x in h2]              # Activate hidden layer 2\n",
    "\n",
    "        output = np.dot(self.w_h2_o, h2)             # feed to output layer\n",
    "        #output = [self.sigmoid(x) for x in output]   # Activate output layer\n",
    "        return self.softmax(output)\n",
    "\n",
    "    def getWeightsLinear(self):\n",
    "        flat_w_i_h1 = list(self.w_i_h1.flatten())\n",
    "        flat_w_h1_h2 = list(self.w_h1_h2.flatten())\n",
    "        flat_w_h2_o = list(self.w_h2_o.flatten())\n",
    "        return( flat_w_i_h1 + flat_w_h1_h2 + flat_w_h2_o )\n",
    "\n",
    "    def setWeightsLinear(self, Wgenome):\n",
    "        numWeights_I_H1 = self.numHidden1 * self.numInput\n",
    "        numWeights_H1_H2 = self.numHidden2 * self.numHidden1\n",
    "        numWeights_H2_O = self.numOutput * self.numHidden2\n",
    "\n",
    "        self.w_i_h1 = np.array(Wgenome[:numWeights_I_H1])\n",
    "        self.w_i_h1 = self.w_i_h1.reshape((self.numHidden1, self.numInput))\n",
    "        \n",
    "        self.w_h1_h2 = np.array(Wgenome[numWeights_I_H1:(numWeights_H1_H2+numWeights_I_H1)])\n",
    "        self.w_h1_h2 = self.w_h1_h2.reshape((self.numHidden2, self.numHidden1))\n",
    "\n",
    "        self.w_h2_o = np.array(Wgenome[(numWeights_H1_H2+numWeights_I_H1):])\n",
    "        self.w_h2_o = self.w_h2_o.reshape((self.numOutput, self.numHidden2))"
   ]
  },
  {
   "cell_type": "markdown",
   "metadata": {},
   "source": [
    "# The genetic algorithm"
   ]
  },
  {
   "cell_type": "code",
   "execution_count": 9,
   "metadata": {},
   "outputs": [],
   "source": [
    "from deap import base\n",
    "from deap import creator\n",
    "from deap import tools"
   ]
  },
  {
   "cell_type": "code",
   "execution_count": 10,
   "metadata": {},
   "outputs": [
    {
     "name": "stderr",
     "output_type": "stream",
     "text": [
      "C:\\Users\\Sam\\AppData\\Local\\Temp/ipykernel_27804/4284538898.py:1: DeprecationWarning: Seeding based on hashing is deprecated\n",
      "since Python 3.9 and will be removed in a subsequent version. The only \n",
      "supported seed types are: None, int, float, str, bytes, and bytearray.\n",
      "  random.seed(datetime.now()) # Set a random seed from the clock\n"
     ]
    }
   ],
   "source": [
    "random.seed(datetime.now()) # Set a random seed from the clock\n",
    "\n",
    "numInputNodes = 5\n",
    "numHiddenNodes1 = 4\n",
    "numHiddenNodes2 = 4\n",
    "numOutputNodes = 3\n",
    "\n",
    "IND_SIZE = ((numInputNodes+1) * numHiddenNodes1) + (numHiddenNodes1 * numHiddenNodes2) + (numHiddenNodes2 * numOutputNodes)"
   ]
  },
  {
   "cell_type": "code",
   "execution_count": 11,
   "metadata": {},
   "outputs": [],
   "source": [
    "myNet = MLP(numInputNodes, numHiddenNodes1, numHiddenNodes2, numOutputNodes)"
   ]
  },
  {
   "cell_type": "code",
   "execution_count": 12,
   "metadata": {},
   "outputs": [],
   "source": [
    "pongGame = Pong()"
   ]
  },
  {
   "cell_type": "code",
   "execution_count": 13,
   "metadata": {},
   "outputs": [],
   "source": [
    "creator.create(\"FitnessMax\", base.Fitness, weights=(1.0,))\n",
    "creator.create(\"Individual\", list, fitness=creator.FitnessMax)\n",
    "\n",
    "toolbox = base.Toolbox()\n",
    "toolbox.register(\"attr_float\", random.uniform, -1.0, 1.0)\n",
    "toolbox.register(\"individual\", tools.initRepeat, creator.Individual,\n",
    "                 toolbox.attr_float, n=IND_SIZE)"
   ]
  },
  {
   "cell_type": "code",
   "execution_count": null,
   "outputs": [],
   "source": [],
   "metadata": {
    "collapsed": false,
    "pycharm": {
     "name": "#%%\n"
    }
   }
  },
  {
   "cell_type": "code",
   "execution_count": 14,
   "metadata": {},
   "outputs": [],
   "source": [
    "def evaluate(indiv, myNet):\n",
    "    fitness = 0\n",
    "    myNet.setWeightsLinear(indiv)\n",
    "    fitness = playGame(myNet, headless=True, maxTimesteps=5000)\n",
    "    return fitness,"
   ]
  },
  {
   "cell_type": "code",
   "execution_count": 15,
   "metadata": {},
   "outputs": [],
   "source": [
    "toolbox.register(\"evaluate\", evaluate)\n",
    "toolbox.register(\"select\", tools.selTournament, tournsize=5)\n",
    "\n",
    "toolbox.register(\"mutate\", tools.mutGaussian, mu=0.0, sigma=0.2, indpb=0.05)\n",
    "toolbox.register(\"population\", tools.initRepeat, list, toolbox.individual)"
   ]
  },
  {
   "cell_type": "code",
   "execution_count": 16,
   "metadata": {},
   "outputs": [],
   "source": [
    "stats = tools.Statistics(key=lambda ind: ind.fitness.values)\n",
    "stats.register(\"avg\", np.mean)\n",
    "stats.register(\"std\", np.std)\n",
    "stats.register(\"min\", np.min)\n",
    "stats.register(\"max\", np.max)"
   ]
  },
  {
   "cell_type": "code",
   "execution_count": 17,
   "metadata": {},
   "outputs": [],
   "source": [
    "logbook = tools.Logbook()\n",
    "\n",
    "pop = toolbox.population(n=2)\n",
    "\n",
    "fitnesses = [toolbox.evaluate(indiv, myNet) for indiv in pop]\n",
    "for ind, fit in zip(pop, fitnesses):\n",
    "    ind.fitness.values = fit"
   ]
  },
  {
   "cell_type": "code",
   "execution_count": 18,
   "metadata": {
    "scrolled": true
   },
   "outputs": [
    {
     "name": "stdout",
     "output_type": "stream",
     "text": [
      "-- Generation 0 --\n"
     ]
    }
   ],
   "source": [
    "NGEN, CXPROB = 1, 0.0\n",
    "\n",
    "for g in range(NGEN):\n",
    "    print(\"-- Generation %i --\" % g)\n",
    "      \n",
    "    offspring = toolbox.select(pop, len(pop))\n",
    "    offspring = list(map(toolbox.clone, offspring))\n",
    "\n",
    "    for mutant in offspring:\n",
    "        toolbox.mutate(mutant)\n",
    "        del mutant.fitness.values\n",
    "          \n",
    "    invalid_ind = [ind for ind in offspring if not ind.fitness.valid]\n",
    "    fitnesses = [toolbox.evaluate(indiv, myNet) for indiv in invalid_ind]\n",
    "    for ind, fit in zip(invalid_ind, fitnesses):\n",
    "         ind.fitness.values = fit\n",
    "   \n",
    "    pop[:] = offspring\n",
    "    record = stats.compile(pop)\n",
    "    logbook.record(gen=g, **record)"
   ]
  },
  {
   "cell_type": "code",
   "execution_count": 19,
   "metadata": {},
   "outputs": [],
   "source": [
    "import matplotlib.pyplot as plt\n",
    "%matplotlib inline\n",
    "\n",
    "gen = logbook.select(\"gen\")\n",
    "_min = logbook.select(\"min\")\n",
    "_max = logbook.select(\"max\")\n",
    "avgs = logbook.select(\"avg\")\n",
    "stds = logbook.select(\"std\")"
   ]
  },
  {
   "cell_type": "code",
   "execution_count": 20,
   "metadata": {
    "scrolled": true
   },
   "outputs": [
    {
     "data": {
      "text/plain": "<Figure size 432x288 with 1 Axes>",
      "image/png": "[encoded data removed]"
     },
     "metadata": {
      "needs_background": "light"
     },
     "output_type": "display_data"
    }
   ],
   "source": [
    "plt.rc('axes', labelsize=14)\n",
    "plt.rc('xtick', labelsize=14)\n",
    "plt.rc('ytick', labelsize=14) \n",
    "plt.rc('legend', fontsize=14)\n",
    "\n",
    "fig, ax1 = plt.subplots()\n",
    "line1 = ax1.plot(gen, avgs)\n",
    "ax1.set_xlabel(\"Generation\")\n",
    "ax1.set_ylabel(\"Fitness\")\n",
    "\n",
    "line2 = ax1.plot(gen, _min)\n",
    "line3 = ax1.plot(gen, _max)"
   ]
  },
  {
   "cell_type": "markdown",
   "metadata": {},
   "source": [
    "# Save the best individual and watch them play"
   ]
  },
  {
   "cell_type": "code",
   "execution_count": 21,
   "metadata": {},
   "outputs": [],
   "source": [
    "bestInd = tools.selBest(pop, 1)[0]"
   ]
  },
  {
   "cell_type": "code",
   "execution_count": 22,
   "metadata": {},
   "outputs": [],
   "source": [
    "myNet.setWeightsLinear(bestInd)"
   ]
  },
  {
   "cell_type": "code",
   "execution_count": 23,
   "metadata": {
    "scrolled": true
   },
   "outputs": [
    {
     "ename": "TclError",
     "evalue": "invalid command name \".!canvas\"",
     "output_type": "error",
     "traceback": [
      "\u001B[1;31m---------------------------------------------------------------------------\u001B[0m",
      "\u001B[1;31mTclError\u001B[0m                                  Traceback (most recent call last)",
      "\u001B[1;32m~\\AppData\\Local\\Temp/ipykernel_27804/2082476630.py\u001B[0m in \u001B[0;36m<module>\u001B[1;34m\u001B[0m\n\u001B[1;32m----> 1\u001B[1;33m \u001B[0mfitness\u001B[0m \u001B[1;33m=\u001B[0m \u001B[0mplayGame\u001B[0m\u001B[1;33m(\u001B[0m \u001B[0mmyNet\u001B[0m\u001B[1;33m,\u001B[0m \u001B[0mheadless\u001B[0m\u001B[1;33m=\u001B[0m\u001B[1;32mFalse\u001B[0m\u001B[1;33m,\u001B[0m \u001B[0mmaxTimesteps\u001B[0m\u001B[1;33m=\u001B[0m\u001B[1;36m5000\u001B[0m\u001B[1;33m)\u001B[0m\u001B[1;33m\u001B[0m\u001B[1;33m\u001B[0m\u001B[0m\n\u001B[0m",
      "\u001B[1;32m~\\AppData\\Local\\Temp/ipykernel_27804/3591058854.py\u001B[0m in \u001B[0;36mplayGame\u001B[1;34m(AIbrain, headless, maxTimesteps)\u001B[0m\n\u001B[0;32m     16\u001B[0m         \u001B[1;31m# Let your algorithm decide on its move here (the options are L.up, L.down, or L.off)\u001B[0m\u001B[1;33m\u001B[0m\u001B[1;33m\u001B[0m\u001B[0m\n\u001B[0;32m     17\u001B[0m         \u001B[1;32mif\u001B[0m \u001B[1;32mnot\u001B[0m \u001B[0mheadless\u001B[0m\u001B[1;33m:\u001B[0m\u001B[1;33m\u001B[0m\u001B[1;33m\u001B[0m\u001B[0m\n\u001B[1;32m---> 18\u001B[1;33m             \u001B[0mpongDisplay\u001B[0m\u001B[1;33m.\u001B[0m\u001B[0mupdate_ball_position\u001B[0m\u001B[1;33m(\u001B[0m \u001B[0mpongGame\u001B[0m\u001B[1;33m.\u001B[0m\u001B[0mball\u001B[0m\u001B[1;33m.\u001B[0m\u001B[0mxcor\u001B[0m\u001B[1;33m(\u001B[0m\u001B[1;33m)\u001B[0m\u001B[1;33m,\u001B[0m \u001B[0mpongGame\u001B[0m\u001B[1;33m.\u001B[0m\u001B[0mball\u001B[0m\u001B[1;33m.\u001B[0m\u001B[0mycor\u001B[0m\u001B[1;33m(\u001B[0m\u001B[1;33m)\u001B[0m \u001B[1;33m)\u001B[0m\u001B[1;33m\u001B[0m\u001B[1;33m\u001B[0m\u001B[0m\n\u001B[0m\u001B[0;32m     19\u001B[0m             \u001B[0mpongDisplay\u001B[0m\u001B[1;33m.\u001B[0m\u001B[0mupdate_L_bat_position\u001B[0m\u001B[1;33m(\u001B[0m \u001B[0mpongGame\u001B[0m\u001B[1;33m.\u001B[0m\u001B[0mL\u001B[0m\u001B[1;33m.\u001B[0m\u001B[0mxcor\u001B[0m\u001B[1;33m(\u001B[0m\u001B[1;33m)\u001B[0m\u001B[1;33m,\u001B[0m \u001B[0mpongGame\u001B[0m\u001B[1;33m.\u001B[0m\u001B[0mL\u001B[0m\u001B[1;33m.\u001B[0m\u001B[0mycor\u001B[0m\u001B[1;33m(\u001B[0m\u001B[1;33m)\u001B[0m \u001B[1;33m)\u001B[0m\u001B[1;33m\u001B[0m\u001B[1;33m\u001B[0m\u001B[0m\n\u001B[0;32m     20\u001B[0m             \u001B[0mpongDisplay\u001B[0m\u001B[1;33m.\u001B[0m\u001B[0mupdate_R_bat_position\u001B[0m\u001B[1;33m(\u001B[0m \u001B[0mpongGame\u001B[0m\u001B[1;33m.\u001B[0m\u001B[0mR\u001B[0m\u001B[1;33m.\u001B[0m\u001B[0mxcor\u001B[0m\u001B[1;33m(\u001B[0m\u001B[1;33m)\u001B[0m\u001B[1;33m,\u001B[0m \u001B[0mpongGame\u001B[0m\u001B[1;33m.\u001B[0m\u001B[0mR\u001B[0m\u001B[1;33m.\u001B[0m\u001B[0mycor\u001B[0m\u001B[1;33m(\u001B[0m\u001B[1;33m)\u001B[0m \u001B[1;33m)\u001B[0m\u001B[1;33m\u001B[0m\u001B[1;33m\u001B[0m\u001B[0m\n",
      "\u001B[1;32m~\\AppData\\Local\\Temp/ipykernel_27804/4124263088.py\u001B[0m in \u001B[0;36mupdate_ball_position\u001B[1;34m(self, ball_x_pos, ball_y_pos)\u001B[0m\n\u001B[0;32m     65\u001B[0m \u001B[1;33m\u001B[0m\u001B[0m\n\u001B[0;32m     66\u001B[0m     \u001B[1;32mdef\u001B[0m \u001B[0mupdate_ball_position\u001B[0m\u001B[1;33m(\u001B[0m\u001B[0mself\u001B[0m\u001B[1;33m,\u001B[0m \u001B[0mball_x_pos\u001B[0m\u001B[1;33m,\u001B[0m \u001B[0mball_y_pos\u001B[0m\u001B[1;33m)\u001B[0m\u001B[1;33m:\u001B[0m\u001B[1;33m\u001B[0m\u001B[1;33m\u001B[0m\u001B[0m\n\u001B[1;32m---> 67\u001B[1;33m         \u001B[0mself\u001B[0m\u001B[1;33m.\u001B[0m\u001B[0mball\u001B[0m\u001B[1;33m.\u001B[0m\u001B[0msetpos\u001B[0m\u001B[1;33m(\u001B[0m\u001B[0mball_x_pos\u001B[0m\u001B[1;33m,\u001B[0m \u001B[0mball_y_pos\u001B[0m\u001B[1;33m)\u001B[0m\u001B[1;33m\u001B[0m\u001B[1;33m\u001B[0m\u001B[0m\n\u001B[0m\u001B[0;32m     68\u001B[0m \u001B[1;33m\u001B[0m\u001B[0m\n\u001B[0;32m     69\u001B[0m     \u001B[1;32mdef\u001B[0m \u001B[0mupdate_L_bat_position\u001B[0m\u001B[1;33m(\u001B[0m\u001B[0mself\u001B[0m\u001B[1;33m,\u001B[0m \u001B[0mL_x_pos\u001B[0m\u001B[1;33m,\u001B[0m \u001B[0mL_y_pos\u001B[0m\u001B[1;33m)\u001B[0m\u001B[1;33m:\u001B[0m\u001B[1;33m\u001B[0m\u001B[1;33m\u001B[0m\u001B[0m\n",
      "\u001B[1;32mG:\\anaconda\\envs\\EVAC\\lib\\turtle.py\u001B[0m in \u001B[0;36mgoto\u001B[1;34m(self, x, y)\u001B[0m\n\u001B[0;32m   1775\u001B[0m             \u001B[0mself\u001B[0m\u001B[1;33m.\u001B[0m\u001B[0m_goto\u001B[0m\u001B[1;33m(\u001B[0m\u001B[0mVec2D\u001B[0m\u001B[1;33m(\u001B[0m\u001B[1;33m*\u001B[0m\u001B[0mx\u001B[0m\u001B[1;33m)\u001B[0m\u001B[1;33m)\u001B[0m\u001B[1;33m\u001B[0m\u001B[1;33m\u001B[0m\u001B[0m\n\u001B[0;32m   1776\u001B[0m         \u001B[1;32melse\u001B[0m\u001B[1;33m:\u001B[0m\u001B[1;33m\u001B[0m\u001B[1;33m\u001B[0m\u001B[0m\n\u001B[1;32m-> 1777\u001B[1;33m             \u001B[0mself\u001B[0m\u001B[1;33m.\u001B[0m\u001B[0m_goto\u001B[0m\u001B[1;33m(\u001B[0m\u001B[0mVec2D\u001B[0m\u001B[1;33m(\u001B[0m\u001B[0mx\u001B[0m\u001B[1;33m,\u001B[0m \u001B[0my\u001B[0m\u001B[1;33m)\u001B[0m\u001B[1;33m)\u001B[0m\u001B[1;33m\u001B[0m\u001B[1;33m\u001B[0m\u001B[0m\n\u001B[0m\u001B[0;32m   1778\u001B[0m \u001B[1;33m\u001B[0m\u001B[0m\n\u001B[0;32m   1779\u001B[0m     \u001B[1;32mdef\u001B[0m \u001B[0mhome\u001B[0m\u001B[1;33m(\u001B[0m\u001B[0mself\u001B[0m\u001B[1;33m)\u001B[0m\u001B[1;33m:\u001B[0m\u001B[1;33m\u001B[0m\u001B[1;33m\u001B[0m\u001B[0m\n",
      "\u001B[1;32mG:\\anaconda\\envs\\EVAC\\lib\\turtle.py\u001B[0m in \u001B[0;36m_goto\u001B[1;34m(self, end)\u001B[0m\n\u001B[0;32m   3157\u001B[0m                       (self.currentLineItem,\n\u001B[0;32m   3158\u001B[0m                       \u001B[0mself\u001B[0m\u001B[1;33m.\u001B[0m\u001B[0mcurrentLine\u001B[0m\u001B[1;33m[\u001B[0m\u001B[1;33m:\u001B[0m\u001B[1;33m]\u001B[0m\u001B[1;33m,\u001B[0m\u001B[1;33m\u001B[0m\u001B[1;33m\u001B[0m\u001B[0m\n\u001B[1;32m-> 3159\u001B[1;33m                       \u001B[0mscreen\u001B[0m\u001B[1;33m.\u001B[0m\u001B[0m_pointlist\u001B[0m\u001B[1;33m(\u001B[0m\u001B[0mself\u001B[0m\u001B[1;33m.\u001B[0m\u001B[0mcurrentLineItem\u001B[0m\u001B[1;33m)\u001B[0m\u001B[1;33m,\u001B[0m\u001B[1;33m\u001B[0m\u001B[1;33m\u001B[0m\u001B[0m\n\u001B[0m\u001B[0;32m   3160\u001B[0m                       self.items[:])\n\u001B[0;32m   3161\u001B[0m                       )\n",
      "\u001B[1;32mG:\\anaconda\\envs\\EVAC\\lib\\turtle.py\u001B[0m in \u001B[0;36m_pointlist\u001B[1;34m(self, item)\u001B[0m\n\u001B[0;32m    752\u001B[0m         (9.9999999999999982, 0.0)]\n\u001B[0;32m    753\u001B[0m         >>> \"\"\"\n\u001B[1;32m--> 754\u001B[1;33m         \u001B[0mcl\u001B[0m \u001B[1;33m=\u001B[0m \u001B[0mself\u001B[0m\u001B[1;33m.\u001B[0m\u001B[0mcv\u001B[0m\u001B[1;33m.\u001B[0m\u001B[0mcoords\u001B[0m\u001B[1;33m(\u001B[0m\u001B[0mitem\u001B[0m\u001B[1;33m)\u001B[0m\u001B[1;33m\u001B[0m\u001B[1;33m\u001B[0m\u001B[0m\n\u001B[0m\u001B[0;32m    755\u001B[0m         \u001B[0mpl\u001B[0m \u001B[1;33m=\u001B[0m \u001B[1;33m[\u001B[0m\u001B[1;33m(\u001B[0m\u001B[0mcl\u001B[0m\u001B[1;33m[\u001B[0m\u001B[0mi\u001B[0m\u001B[1;33m]\u001B[0m\u001B[1;33m,\u001B[0m \u001B[1;33m-\u001B[0m\u001B[0mcl\u001B[0m\u001B[1;33m[\u001B[0m\u001B[0mi\u001B[0m\u001B[1;33m+\u001B[0m\u001B[1;36m1\u001B[0m\u001B[1;33m]\u001B[0m\u001B[1;33m)\u001B[0m \u001B[1;32mfor\u001B[0m \u001B[0mi\u001B[0m \u001B[1;32min\u001B[0m \u001B[0mrange\u001B[0m\u001B[1;33m(\u001B[0m\u001B[1;36m0\u001B[0m\u001B[1;33m,\u001B[0m \u001B[0mlen\u001B[0m\u001B[1;33m(\u001B[0m\u001B[0mcl\u001B[0m\u001B[1;33m)\u001B[0m\u001B[1;33m,\u001B[0m \u001B[1;36m2\u001B[0m\u001B[1;33m)\u001B[0m\u001B[1;33m]\u001B[0m\u001B[1;33m\u001B[0m\u001B[1;33m\u001B[0m\u001B[0m\n\u001B[0;32m    756\u001B[0m         \u001B[1;32mreturn\u001B[0m  \u001B[0mpl\u001B[0m\u001B[1;33m\u001B[0m\u001B[1;33m\u001B[0m\u001B[0m\n",
      "\u001B[1;32m<string>\u001B[0m in \u001B[0;36mcoords\u001B[1;34m(self, *args, **kw)\u001B[0m\n",
      "\u001B[1;32mG:\\anaconda\\envs\\EVAC\\lib\\tkinter\\__init__.py\u001B[0m in \u001B[0;36mcoords\u001B[1;34m(self, *args)\u001B[0m\n\u001B[0;32m   2793\u001B[0m         return [self.tk.getdouble(x) for x in\n\u001B[0;32m   2794\u001B[0m                            self.tk.splitlist(\n\u001B[1;32m-> 2795\u001B[1;33m                    self.tk.call((self._w, 'coords') + args))]\n\u001B[0m\u001B[0;32m   2796\u001B[0m \u001B[1;33m\u001B[0m\u001B[0m\n\u001B[0;32m   2797\u001B[0m     \u001B[1;32mdef\u001B[0m \u001B[0m_create\u001B[0m\u001B[1;33m(\u001B[0m\u001B[0mself\u001B[0m\u001B[1;33m,\u001B[0m \u001B[0mitemType\u001B[0m\u001B[1;33m,\u001B[0m \u001B[0margs\u001B[0m\u001B[1;33m,\u001B[0m \u001B[0mkw\u001B[0m\u001B[1;33m)\u001B[0m\u001B[1;33m:\u001B[0m \u001B[1;31m# Args: (val, val, ..., cnf={})\u001B[0m\u001B[1;33m\u001B[0m\u001B[1;33m\u001B[0m\u001B[0m\n",
      "\u001B[1;31mTclError\u001B[0m: invalid command name \".!canvas\""
     ]
    }
   ],
   "source": [
    "fitness = playGame( myNet, headless=False, maxTimesteps=5000)"
   ]
  },
  {
   "cell_type": "code",
   "execution_count": null,
   "metadata": {},
   "outputs": [],
   "source": [
    "#random.seed(datetime.now()) # Set a random seed from the clock\n",
    "#playGame(AIbrain=myNet, headless=False, maxTimesteps=2000)"
   ]
  },
  {
   "cell_type": "code",
   "execution_count": null,
   "metadata": {},
   "outputs": [],
   "source": []
  },
  {
   "cell_type": "code",
   "execution_count": null,
   "metadata": {},
   "outputs": [],
   "source": []
  },
  {
   "cell_type": "code",
   "execution_count": null,
   "metadata": {},
   "outputs": [],
   "source": []
  },
  {
   "cell_type": "code",
   "execution_count": null,
   "metadata": {},
   "outputs": [],
   "source": []
  }
 ],
 "metadata": {
  "kernelspec": {
   "name": "python3",
   "language": "python",
   "display_name": "Python 3"
  },
  "language_info": {
   "codemirror_mode": {
    "name": "ipython",
    "version": 3
   },
   "file_extension": ".py",
   "mimetype": "text/x-python",
   "name": "python",
   "nbconvert_exporter": "python",
   "pygments_lexer": "ipython3",
   "version": "3.8.3"
  }
 },
 "nbformat": 4,
 "nbformat_minor": 4
}