{
 "cells": [
  {
   "cell_type": "markdown",
   "metadata": {},
   "source": [
    "This version of the snake game allows you to implement and run your evolutionary algorithm"
   ]
  },
  {
   "cell_type": "code",
   "execution_count": 5,
   "metadata": {},
   "outputs": [],
   "source": [
    "import random\n",
    "import time\n",
    "import turtle\n",
    "import random\n",
    "from datetime import datetime\n",
    "\n",
    "from deap import base\n",
    "from deap import creator\n",
    "from deap import tools"
   ]
  },
  {
   "cell_type": "code",
   "execution_count": 6,
   "metadata": {},
   "outputs": [],
   "source": [
    "XSIZE = YSIZE = 16 # Number of grid cells in each direction (do not change this)"
   ]
  },
  {
   "cell_type": "markdown",
   "metadata": {},
   "source": [
    "Change headless to True when evolving your solution. You can then pickle your final solution, and run it with this set to True to visualize the result, if you wish. Note that, when using Turtle,  to run it again properly you might need to go to restart your kernel after the visualization has finished."
   ]
  },
  {
   "cell_type": "markdown",
   "metadata": {},
   "source": [
    "If you are running on the cloud, or on Google Colab, you can chose to remove the turtle and display code altogether and only run headless. You could then pickle your best solution and use this code to see it play."
   ]
  },
  {
   "cell_type": "code",
   "execution_count": 7,
   "metadata": {},
   "outputs": [],
   "source": [
    "HEADLESS = True"
   ]
  },
  {
   "cell_type": "code",
   "execution_count": 8,
   "metadata": {},
   "outputs": [],
   "source": [
    "class DisplayGame:\n",
    "    def __init__(self, XSIZE, YSIZE):\n",
    "        # SCREEN\n",
    "        self.win = turtle.Screen()\n",
    "        self.win.title(\"EVCO Snake game\")\n",
    "        self.win.bgcolor(\"grey\")\n",
    "        self.win.setup(width=(XSIZE*20)+40,height=(YSIZE*20)+40)\n",
    "        #self.win.screensize((XSIZE*20)+20,(YSIZE*20)+20)\n",
    "        self.win.tracer(0)\n",
    "\n",
    "        #Snake Head\n",
    "        self.head = turtle.Turtle()\n",
    "        self.head.shape(\"square\")\n",
    "        self.head.color(\"black\")\n",
    "\n",
    "        # Snake food\n",
    "        self.food = turtle.Turtle()\n",
    "        self.food.shape(\"circle\")\n",
    "        self.food.color(\"yellow\")\n",
    "        self.food.penup()\n",
    "        self.food.shapesize(0.55, 0.55)\n",
    "        self.segments = []\n",
    "\n",
    "    def reset(self, snake):\n",
    "        self.segments = []\n",
    "        self.head.penup()\n",
    "        self.food.goto(-500, -500)\n",
    "        self.head.goto(-500, -500)\n",
    "        for i in range(len(snake)-1):\n",
    "            self.add_snake_segment()\n",
    "        self.update_segment_positions(snake)\n",
    "       \n",
    "    def update_food(self,new_food):\n",
    "        self.food.goto(((new_food[1]-9)*20)+20, (((9-new_food[0])*20)-10)-20)\n",
    "        \n",
    "    def update_segment_positions(self, snake):\n",
    "        self.head.goto(((snake[0][1]-9)*20)+20, (((9-snake[0][0])*20)-10)-20)\n",
    "        for i in range(len(self.segments)):\n",
    "            self.segments[i].goto(((snake[i+1][1]-9)*20)+20, (((9-snake[i+1][0])*20)-10)-20)\n",
    "\n",
    "    def add_snake_segment(self):\n",
    "        self.new_segment = turtle.Turtle()\n",
    "        self.new_segment.speed(0)\n",
    "        self.new_segment.shape(\"square\")\n",
    "        self.new_segment.color(random.choice([\"green\",'black','red','blue']))\n",
    "        self.new_segment.penup()\n",
    "        self.segments.append(self.new_segment)"
   ]
  },
  {
   "cell_type": "code",
   "execution_count": 9,
   "metadata": {},
   "outputs": [],
   "source": [
    "class snake:\n",
    "    def __init__(self, _XSIZE, _YSIZE):\n",
    "        self.XSIZE = _XSIZE\n",
    "        self.YSIZE = _YSIZE\n",
    "        self.reset()\n",
    "\n",
    "    def reset(self):\n",
    "        self.snake = [[8,10], [8,9], [8,8], [8,7], [8,6], [8,5], [8,4], [8,3], [8,2], [8,1],[8,0] ]# Initial snake co-ordinates [ypos,xpos]    \n",
    "        self.food = self.place_food()\n",
    "        self.ahead = []\n",
    "        self.snake_direction = \"right\"\n",
    "\n",
    "    def place_food(self):\n",
    "        self.food = [random.randint(1, (YSIZE-2)), random.randint(1, (XSIZE-2))]\n",
    "        while (self.food in self.snake):\n",
    "            self.food = [random.randint(1, (YSIZE-2)), random.randint(1, (XSIZE-2))]\n",
    "        return( self.food )\n",
    "    \n",
    "    def update_snake_position(self):\n",
    "        self.snake.insert(0, [self.snake[0][0] + (self.snake_direction == \"down\" and 1) + (self.snake_direction == \"up\" and -1), self.snake[0][1] + (self.snake_direction == \"left\" and -1) + (self.snake_direction == \"right\" and 1)])\n",
    "\n",
    "    def food_eaten(self):\n",
    "        if self.snake[0] == self.food:                                            # When snake eats the food\n",
    "            return True\n",
    "        else:    \n",
    "            last = self.snake.pop()  # [1] If it does not eat the food, it moves forward and so last tail item is removed\n",
    "            return False\n",
    "            \n",
    "    def snake_turns_into_self(self):\n",
    "        if self.snake[0] in self.snake[1:]:\n",
    "            return True\n",
    "        else:\n",
    "            return False\n",
    "\n",
    "    def snake_hit_wall(self):\n",
    "        if self.snake[0][0] == 0 or self.snake[0][0] == (YSIZE-1) or self.snake[0][1] == 0 or self.snake[0][1] == (XSIZE-1):\n",
    "            return True\n",
    "        else:\n",
    "            return False\n",
    "\n",
    "    # Example sensing functions\n",
    "    def getAheadLocation(self):\n",
    "        self.ahead = [ self.snake[0][0] + (self.snake_direction == \"down\" and 1) + (self.snake_direction == \"up\" and -1), self.snake[0][1] + (self.snake_direction == \"left\" and -1) + (self.snake_direction == \"right\" and 1)] \n",
    "        \n",
    "    def sense_wall_ahead(self):\n",
    "        self.getAheadLocation()\n",
    "        return( self.ahead[0] == 0 or self.ahead[0] == (YSIZE-1) or self.ahead[1] == 0 or self.ahead[1] == (XSIZE-1) )\n",
    "        \n",
    "    def sense_food_ahead(self):\n",
    "        self.getAheadLocation()\n",
    "        return self.food == self.ahead\n",
    "\n",
    "    def sense_tail_ahead(self):\n",
    "        self.getAheadLocation()\n",
    "        return self.ahead in self.snake"
   ]
  },
  {
   "cell_type": "code",
   "execution_count": 10,
   "outputs": [],
   "source": [
    "import numpy as np\n",
    "import math\n",
    "\n",
    "class MLP(object):\n",
    "    def __init__(self, numInput, numHidden1, numHidden2, numOutput):\n",
    "        self.fitness = 0\n",
    "        self.numInput = numInput + 1 # Add bias node from input to hidden layer 1 only\n",
    "        self.numHidden1 = numHidden1 # Feel free to adapt the code to add more biases if you wish\n",
    "        self.numHidden2 = numHidden2\n",
    "        self.numOutput = numOutput\n",
    "\n",
    "        self.w_i_h1 = np.random.randn(self.numHidden1, self.numInput)\n",
    "        self.w_h1_h2 = np.random.randn(self.numHidden2, self.numHidden1)\n",
    "        self.w_h2_o = np.random.randn(self.numOutput, self.numHidden2)\n",
    "\n",
    "        self.ReLU = lambda x : max(0,x)\n",
    "\n",
    "    def softmax(self, x):\n",
    "        e_x = np.exp(x - np.max(x))\n",
    "        return e_x / e_x.sum()\n",
    "\n",
    "    def feedForward(self, inputs):\n",
    "        inputsBias = inputs[:]\n",
    "        inputsBias.insert(len(inputs),1)             # Add bias input\n",
    "\n",
    "        h1 = np.dot(self.w_i_h1, inputsBias)         # feed input to hidden layer 1\n",
    "        h1 = [self.ReLU(x) for x in h1]              # Activate hidden layer1\n",
    "\n",
    "        h2 = np.dot(self.w_h1_h2, h1)                 # feed layer 1 to hidden layer 2\n",
    "        h2 = [self.ReLU(x) for x in h2]              # Activate hidden layer 2\n",
    "\n",
    "        output = np.dot(self.w_h2_o, h2)             # feed to output layer\n",
    "        #output = [self.sigmoid(x) for x in output]   # Activate output layer\n",
    "        return self.softmax(output)\n",
    "\n",
    "    def getWeightsLinear(self):\n",
    "        flat_w_i_h1 = list(self.w_i_h1.flatten())\n",
    "        flat_w_h1_h2 = list(self.w_h1_h2.flatten())\n",
    "        flat_w_h2_o = list(self.w_h2_o.flatten())\n",
    "        return( flat_w_i_h1 + flat_w_h1_h2 + flat_w_h2_o )\n",
    "\n",
    "    def setWeightsLinear(self, Wgenome):\n",
    "        numWeights_I_H1 = self.numHidden1 * self.numInput\n",
    "        numWeights_H1_H2 = self.numHidden2 * self.numHidden1\n",
    "        numWeights_H2_O = self.numOutput * self.numHidden2\n",
    "\n",
    "        self.w_i_h1 = np.array(Wgenome[:numWeights_I_H1])\n",
    "        self.w_i_h1 = self.w_i_h1.reshape((self.numHidden1, self.numInput))\n",
    "\n",
    "        self.w_h1_h2 = np.array(Wgenome[numWeights_I_H1:(numWeights_H1_H2+numWeights_I_H1)])\n",
    "        self.w_h1_h2 = self.w_h1_h2.reshape((self.numHidden2, self.numHidden1))\n",
    "\n",
    "        self.w_h2_o = np.array(Wgenome[(numWeights_H1_H2+numWeights_I_H1):])\n",
    "        self.w_h2_o = self.w_h2_o.reshape((self.numOutput, self.numHidden2))"
   ],
   "metadata": {
    "collapsed": false,
    "pycharm": {
     "name": "#%%\n"
    }
   }
  },
  {
   "cell_type": "code",
   "execution_count": 11,
   "outputs": [],
   "source": [
    "random.seed(datetime.now()) # Set a random seed from the clock\n",
    "\n",
    "numInputNodes = 5\n",
    "numHiddenNodes1 = 4\n",
    "numHiddenNodes2 = 4\n",
    "numOutputNodes = 3\n",
    "\n",
    "IND_SIZE = ((numInputNodes+1) * numHiddenNodes1) + (numHiddenNodes1 * numHiddenNodes2) + (numHiddenNodes2 * numOutputNodes)"
   ],
   "metadata": {
    "collapsed": false,
    "pycharm": {
     "name": "#%%\n"
    }
   }
  },
  {
   "cell_type": "code",
   "execution_count": null,
   "outputs": [],
   "source": [
    "myNet = MLP(numInputNodes, numHiddenNodes1, numHiddenNodes2, numOutputNodes)"
   ],
   "metadata": {
    "collapsed": false,
    "pycharm": {
     "name": "#%%\n"
    }
   }
  },
  {
   "cell_type": "code",
   "execution_count": 13,
   "metadata": {},
   "outputs": [],
   "source": [
    "snake_game = snake(XSIZE,YSIZE)"
   ]
  },
  {
   "cell_type": "code",
   "execution_count": 12,
   "outputs": [],
   "source": [
    "creator.create(\"FitnessMax\", base.Fitness, weights=(1.0,))\n",
    "creator.create(\"Individual\", list, fitness=creator.FitnessMax)\n",
    "\n",
    "toolbox = base.Toolbox()\n",
    "toolbox.register(\"attr_float\", random.uniform, -1.0, 1.0)\n",
    "toolbox.register(\"individual\", tools.initRepeat, creator.Individual,\n",
    "                 toolbox.attr_float, n=IND_SIZE)"
   ],
   "metadata": {
    "collapsed": false,
    "pycharm": {
     "name": "#%%\n"
    }
   }
  },
  {
   "cell_type": "code",
   "execution_count": null,
   "outputs": [],
   "source": [
    "def evaluate(indiv, myNet):\n",
    "    fitness = 0\n",
    "    myNet.setWeightsLinear(indiv)\n",
    "    fitness = snake_game(myNet, headless=True, maxTimesteps=5000)\n",
    "    return fitness,"
   ],
   "metadata": {
    "collapsed": false,
    "pycharm": {
     "name": "#%%\n"
    }
   }
  },
  {
   "cell_type": "code",
   "execution_count": null,
   "outputs": [],
   "source": [
    "toolbox.register(\"evaluate\", evaluate)\n",
    "toolbox.register(\"select\", tools.selTournament, tournsize=5)\n",
    "\n",
    "toolbox.register(\"mutate\", tools.mutGaussian, mu=0.0, sigma=0.2, indpb=0.05)\n",
    "toolbox.register(\"population\", tools.initRepeat, list, toolbox.individual)"
   ],
   "metadata": {
    "collapsed": false,
    "pycharm": {
     "name": "#%%\n"
    }
   }
  },
  {
   "cell_type": "code",
   "execution_count": null,
   "outputs": [],
   "source": [
    "stats = tools.Statistics(key=lambda ind: ind.fitness.values)\n",
    "stats.register(\"avg\", np.mean)\n",
    "stats.register(\"std\", np.std)\n",
    "stats.register(\"min\", np.min)\n",
    "stats.register(\"max\", np.max)"
   ],
   "metadata": {
    "collapsed": false,
    "pycharm": {
     "name": "#%%\n"
    }
   }
  },
  {
   "cell_type": "code",
   "execution_count": null,
   "outputs": [],
   "source": [
    "logbook = tools.Logbook()\n",
    "\n",
    "pop = toolbox.population(n=2)\n",
    "\n",
    "fitnesses = [toolbox.evaluate(indiv, myNet) for indiv in pop]\n",
    "for ind, fit in zip(pop, fitnesses):\n",
    "    ind.fitness.values = fit"
   ],
   "metadata": {
    "collapsed": false,
    "pycharm": {
     "name": "#%%\n"
    }
   }
  },
  {
   "cell_type": "code",
   "execution_count": null,
   "outputs": [],
   "source": [
    "NGEN, CXPROB = 1, 0.0\n",
    "\n",
    "for g in range(NGEN):\n",
    "    print(\"-- Generation %i --\" % g)\n",
    "\n",
    "    offspring = toolbox.select(pop, len(pop))\n",
    "    offspring = list(map(toolbox.clone, offspring))\n",
    "\n",
    "    for mutant in offspring:\n",
    "        toolbox.mutate(mutant)\n",
    "        del mutant.fitness.values\n",
    "\n",
    "    invalid_ind = [ind for ind in offspring if not ind.fitness.valid]\n",
    "    fitnesses = [toolbox.evaluate(indiv, myNet) for indiv in invalid_ind]\n",
    "    for ind, fit in zip(invalid_ind, fitnesses):\n",
    "        ind.fitness.values = fit\n",
    "\n",
    "    pop[:] = offspring\n",
    "    record = stats.compile(pop)\n",
    "    logbook.record(gen=g, **record)"
   ],
   "metadata": {
    "collapsed": false,
    "pycharm": {
     "name": "#%%\n"
    }
   }
  },
  {
   "cell_type": "code",
   "execution_count": null,
   "outputs": [],
   "source": [
    "import matplotlib.pyplot as plt\n",
    "%matplotlib inline\n",
    "\n",
    "gen = logbook.select(\"gen\")\n",
    "_min = logbook.select(\"min\")\n",
    "_max = logbook.select(\"max\")\n",
    "avgs = logbook.select(\"avg\")\n",
    "stds = logbook.select(\"std\")"
   ],
   "metadata": {
    "collapsed": false,
    "pycharm": {
     "name": "#%%\n"
    }
   }
  },
  {
   "cell_type": "code",
   "execution_count": null,
   "outputs": [],
   "source": [
    "plt.rc('axes', labelsize=14)\n",
    "plt.rc('xtick', labelsize=14)\n",
    "plt.rc('ytick', labelsize=14)\n",
    "plt.rc('legend', fontsize=14)\n",
    "\n",
    "fig, ax1 = plt.subplots()\n",
    "line1 = ax1.plot(gen, avgs)\n",
    "ax1.set_xlabel(\"Generation\")\n",
    "ax1.set_ylabel(\"Fitness\")\n",
    "\n",
    "line2 = ax1.plot(gen, _min)\n",
    "line3 = ax1.plot(gen, _max)"
   ],
   "metadata": {
    "collapsed": false,
    "pycharm": {
     "name": "#%%\n"
    }
   }
  },
  {
   "cell_type": "code",
   "execution_count": 14,
   "metadata": {},
   "outputs": [],
   "source": [
    "if not HEADLESS:\n",
    "    display = DisplayGame(XSIZE,YSIZE)"
   ]
  },
  {
   "cell_type": "code",
   "execution_count": 15,
   "metadata": {},
   "outputs": [],
   "source": [
    "def run_game(display,brain,snake_game, headless,max_timestep=1000):\n",
    "\n",
    "    score = 0\n",
    "    snake_game.reset()\n",
    "    if not headless:\n",
    "        display.reset(snake_game.snake)\n",
    "        display.win.update()\n",
    "    snake_game.place_food()\n",
    "    game_over = False\n",
    "    snake_direction = \"right\"\n",
    "\n",
    "    flag = True\n",
    "    while not game_over:\n",
    "\n",
    "        # ****YOUR AI BELOW HERE******************\n",
    "\n",
    "        # Here is a very silly random snake controller. It moves with a correlated random walk, and the only sensible decision it makes is not to turn directly back on itself (possible in this game)\n",
    "        # *** Replace this with your evolved controller here to decide on the direction the snake should take*\n",
    "\n",
    "        if random.random() < 1:\n",
    "            if snake_direction == \"left\":\n",
    "                new_snake_direction = random.choice([\"left\",\"up\",\"down\"])\n",
    "            elif snake_direction == \"right\":\n",
    "                new_snake_direction = random.choice([\"right\",\"up\",\"down\"])\n",
    "            elif snake_direction == \"up\":\n",
    "                new_snake_direction = random.choice([\"left\",\"up\",\"right\"])\n",
    "            elif snake_direction == \"down\":\n",
    "                new_snake_direction = random.choice([\"left\",\"down\",\"right\"])\n",
    "        snake_direction = new_snake_direction\n",
    "        snake_game.snake_direction = snake_direction\n",
    "        \n",
    "        # Here is an example sensing function\n",
    "        if snake_game.sense_tail_ahead():\n",
    "            print(\"Tail ahead!!!!\")\n",
    "            time.sleep(0.5)\n",
    "        \n",
    "        # ****YOUR AI ABOVE HERE******************\n",
    "            \n",
    "        snake_game.update_snake_position()\n",
    "\n",
    "        # Check if food is eaten\n",
    "        if snake_game.food_eaten():\n",
    "            snake_game.place_food()\n",
    "            score += 1\n",
    "            if not headless: display.add_snake_segment()\n",
    "\n",
    "        # Game over if the snake runs over itself\n",
    "        if snake_game.snake_turns_into_self():\n",
    "            game_over = True\n",
    "            print(\"Snake turned into itself!\")\n",
    "\n",
    "        # Game over if the snake goes through a wall\n",
    "        if snake_game.snake_hit_wall():\n",
    "            game_over = True\n",
    "            print(\"Snake hit a wall!\")\n",
    "\n",
    "        if not headless:       \n",
    "            display.update_food(snake_game.food)\n",
    "            display.update_segment_positions(snake_game.snake)\n",
    "            display.win.update()\n",
    "            time.sleep(0.2) # Change this to modify the speed the game runs at when displayed.\n",
    "\n",
    "    print(\"\\nFINAL score - \" + str(score))\n",
    "    print()\n",
    "    if not headless: turtle.done()\n"
   ]
  },
  {
   "cell_type": "markdown",
   "metadata": {},
   "source": [
    "Below is what you would use for your evaluation. You would also use it to display your final (pickled and loaded) solution, with headless = False."
   ]
  },
  {
   "cell_type": "markdown",
   "metadata": {},
   "source": [
    "If you have run without headless (i.e. with the display) you will need to reset your kernel to run again. This appears to be an IPython issue with Turtle, but if you have a way to deal with that, do please let me know. You will probable only want to run it one-at-a-time anyway."
   ]
  },
  {
   "cell_type": "code",
   "execution_count": 16,
   "metadata": {},
   "outputs": [
    {
     "name": "stdout",
     "output_type": "stream",
     "text": [
      "Tail ahead!!!!\n",
      "Snake turned into itself!\n",
      "\n",
      "FINAL score - 0\n",
      "\n"
     ]
    }
   ],
   "source": [
    "run_game(display,snake_game, headless=HEADLESS)"
   ]
  },
  {
   "cell_type": "code",
   "execution_count": 16,
   "metadata": {},
   "outputs": [],
   "source": []
  }
 ],
 "metadata": {
  "kernelspec": {
   "display_name": "Python 3",
   "language": "python",
   "name": "python3"
  },
  "language_info": {
   "codemirror_mode": {
    "name": "ipython",
    "version": 3
   },
   "file_extension": ".py",
   "mimetype": "text/x-python",
   "name": "python",
   "nbconvert_exporter": "python",
   "pygments_lexer": "ipython3",
   "version": "3.6.13"
  }
 },
 "nbformat": 4,
 "nbformat_minor": 4
}