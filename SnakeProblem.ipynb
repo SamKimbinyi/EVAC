{
 "cells": [
  {
   "cell_type": "markdown",
   "metadata": {},
   "source": [
    "This version of the snake game allows you to implement and run your evolutionary algorithm"
   ]
  },
  {
   "cell_type": "code",
   "execution_count": 281,
   "metadata": {},
   "outputs": [],
   "source": [
    "import random\n",
    "import time\n",
    "import turtle\n",
    "import random\n",
    "from datetime import datetime\n",
    "\n",
    "from deap import base\n",
    "from deap import creator\n",
    "from deap import tools\n",
    "from deap import algorithms"
   ]
  },
  {
   "cell_type": "code",
   "execution_count": 282,
   "metadata": {},
   "outputs": [],
   "source": [
    "XSIZE = YSIZE = 16 # Number of grid cells in each direction (do not change this)"
   ]
  },
  {
   "cell_type": "code",
   "execution_count": 283,
   "outputs": [],
   "source": [
    "from enum import  Enum\n",
    "\n",
    "class Directions(Enum):\n",
    "    UP = 0\n",
    "    RIGHT = 1\n",
    "    DOWN = 2\n",
    "    LEFT = 3"
   ],
   "metadata": {
    "collapsed": false,
    "pycharm": {
     "name": "#%%\n"
    }
   }
  },
  {
   "cell_type": "markdown",
   "metadata": {},
   "source": [
    "Change headless to True when evolving your solution. You can then pickle your final solution, and run it with this set to True to visualize the result, if you wish. Note that, when using Turtle,  to run it again properly you might need to go to restart your kernel after the visualization has finished."
   ]
  },
  {
   "cell_type": "markdown",
   "metadata": {},
   "source": [
    "If you are running on the cloud, or on Google Colab, you can chose to remove the turtle and display code altogether and only run headless. You could then pickle your best solution and use this code to see it play."
   ]
  },
  {
   "cell_type": "code",
   "execution_count": 284,
   "metadata": {},
   "outputs": [],
   "source": [
    "HEADLESS = True"
   ]
  },
  {
   "cell_type": "code",
   "execution_count": 285,
   "metadata": {},
   "outputs": [],
   "source": [
    "class DisplayGame:\n",
    "    def __init__(self, XSIZE, YSIZE):\n",
    "        # SCREEN\n",
    "        self.win = turtle.Screen()\n",
    "        self.win.title(\"EVCO Snake game\")\n",
    "        self.win.bgcolor(\"grey\")\n",
    "        self.win.setup(width=(XSIZE*20)+40,height=(YSIZE*20)+40)\n",
    "        #self.win.screensize((XSIZE*20)+20,(YSIZE*20)+20)\n",
    "        self.win.tracer(0)\n",
    "\n",
    "        #Snake Head\n",
    "        self.head = turtle.Turtle()\n",
    "        self.head.shape(\"square\")\n",
    "        self.head.color(\"black\")\n",
    "\n",
    "        # Snake food\n",
    "        self.food = turtle.Turtle()\n",
    "        self.food.shape(\"circle\")\n",
    "        self.food.color(\"yellow\")\n",
    "        self.food.penup()\n",
    "        self.food.shapesize(0.55, 0.55)\n",
    "        self.segments = []\n",
    "\n",
    "    def reset(self, snake):\n",
    "        self.segments = []\n",
    "        self.head.penup()\n",
    "        self.food.goto(-500, -500)\n",
    "        self.head.goto(-500, -500)\n",
    "        for i in range(len(snake)-1):\n",
    "            self.add_snake_segment()\n",
    "        self.update_segment_positions(snake)\n",
    "       \n",
    "    def update_food(self,new_food):\n",
    "        self.food.goto(((new_food[1]-9)*20)+20, (((9-new_food[0])*20)-10)-20)\n",
    "        \n",
    "    def update_segment_positions(self, snake):\n",
    "        self.head.goto(((snake[0][1]-9)*20)+20, (((9-snake[0][0])*20)-10)-20)\n",
    "        for i in range(len(self.segments)):\n",
    "            self.segments[i].goto(((snake[i+1][1]-9)*20)+20, (((9-snake[i+1][0])*20)-10)-20)\n",
    "\n",
    "    def add_snake_segment(self):\n",
    "        self.new_segment = turtle.Turtle()\n",
    "        self.new_segment.speed(0)\n",
    "        self.new_segment.shape(\"square\")\n",
    "        self.new_segment.color(random.choice([\"green\",'black','red','blue']))\n",
    "        self.new_segment.penup()\n",
    "        self.segments.append(self.new_segment)"
   ]
  },
  {
   "cell_type": "code",
   "execution_count": 286,
   "metadata": {},
   "outputs": [],
   "source": [
    "class snake:\n",
    "    def __init__(self, _XSIZE, _YSIZE):\n",
    "        self.XSIZE = _XSIZE\n",
    "        self.YSIZE = _YSIZE\n",
    "        self.reset()\n",
    "\n",
    "    def reset(self):\n",
    "        self.snake = [[8,10], [8,9], [8,8], [8,7], [8,6], [8,5], [8,4], [8,3], [8,2], [8,1],[8,0] ]# Initial snake co-ordinates [ypos,xpos]    \n",
    "        self.food = self.place_food()\n",
    "        self.ahead = []\n",
    "        self.snake_direction = \"right\"\n",
    "\n",
    "    def place_food(self):\n",
    "        self.food = [random.randint(1, (YSIZE-2)), random.randint(1, (XSIZE-2))]\n",
    "        while (self.food in self.snake):\n",
    "            self.food = [random.randint(1, (YSIZE-2)), random.randint(1, (XSIZE-2))]\n",
    "        return( self.food )\n",
    "    \n",
    "    def update_snake_position(self):\n",
    "        self.snake.insert(0, [self.snake[0][0] + (self.snake_direction == \"down\" and 1) + (self.snake_direction == \"up\" and -1), self.snake[0][1] + (self.snake_direction == \"left\" and -1) + (self.snake_direction == \"right\" and 1)])\n",
    "\n",
    "    def food_eaten(self):\n",
    "        if self.snake[0] == self.food:                                            # When snake eats the food\n",
    "            return True\n",
    "        else:    \n",
    "            last = self.snake.pop()  # [1] If it does not eat the food, it moves forward and so last tail item is removed\n",
    "            return False\n",
    "            \n",
    "    def snake_turns_into_self(self):\n",
    "        if self.snake[0] in self.snake[1:]:\n",
    "            return True\n",
    "        else:\n",
    "            return False\n",
    "\n",
    "    def snake_hit_wall(self):\n",
    "        if self.snake[0][0] == 0 or self.snake[0][0] == (YSIZE-1) or self.snake[0][1] == 0 or self.snake[0][1] == (XSIZE-1):\n",
    "            return True\n",
    "        else:\n",
    "            return False\n",
    "\n",
    "    # Example sensing functions\n",
    "    def look(self,direction):\n",
    "        if direction == \"up\":\n",
    "            coord = [self.snake[0][0] - 1, self.snake[0][1]]\n",
    "        elif direction == \"right\":\n",
    "            coord = [self.snake[0][0] , self.snake[0][1] +1]\n",
    "        elif direction == \"down\":\n",
    "            coord = [self.snake[0][0] + 1, self.snake[0][1]]\n",
    "        elif direction == \"left\":\n",
    "            coord = [self.snake[0][0], self.snake[0][1] -1]\n",
    "        return coord\n",
    "\n",
    "    def sense_blocked_direction(self,direction):\n",
    "        look_direction = self.look(direction)\n",
    "        val = ( look_direction[0] == 0 or look_direction[0] == (YSIZE-1) or look_direction[1] == 0 or look_direction[1] == (XSIZE-1) )\n",
    "        return val or look_direction in self.snake\n",
    "        \n",
    "    def sense_food_direction(self,direction):\n",
    "        look_direction = self.look(direction)\n",
    "        return self.food == look_direction\n",
    "\n",
    "    def food_direction(self,direction):\n",
    "        flag = False\n",
    "        if direction == \"up\":\n",
    "           if self.food[0] < self.snake[0][0]:\n",
    "               flag = True\n",
    "        if direction == \"right\":\n",
    "            if self.food[1] > self.snake[0][1]:\n",
    "                flag = True\n",
    "        if direction == \"down\":\n",
    "            if self.food[0] > self.snake[0][0]:\n",
    "                flag = True\n",
    "        if direction == \"left\":\n",
    "            if self.food[1] < self.snake[0][1]:\n",
    "                flag = True\n",
    "        return flag\n",
    "\n",
    "\n",
    "    def sense_food_distance(self):\n",
    "        snake_array = np.asarray(self.snake[0])\n",
    "        food_array = np.asarray(self.food)\n",
    "        max_distance = np.sqrt(XSIZE**2 + YSIZE**2)\n",
    "        return np.linalg.norm(snake_array-food_array+1)/max_distance\n"
   ]
  },
  {
   "cell_type": "code",
   "execution_count": 287,
   "outputs": [],
   "source": [
    "import numpy as np\n",
    "import math\n",
    "\n",
    "class MLP(object):\n",
    "    def __init__(self, numInput, numHidden1, numHidden2, numOutput):\n",
    "        self.fitness = 0\n",
    "        self.numInput = numInput + 1 # Add bias node from input to hidden layer 1 only\n",
    "        self.numHidden1 = numHidden1 # Feel free to adapt the code to add more biases if you wish\n",
    "        self.numHidden2 = numHidden2\n",
    "        self.numOutput = numOutput\n",
    "\n",
    "        self.w_i_h1 = np.random.randn(self.numHidden1, self.numInput)\n",
    "        self.w_h1_h2 = np.random.randn(self.numHidden2, self.numHidden1)\n",
    "        self.w_h2_o = np.random.randn(self.numOutput, self.numHidden2)\n",
    "\n",
    "        self.ReLU = lambda x : max(0,x)\n",
    "\n",
    "    def softmax(self, x):\n",
    "        e_x = np.exp(x - np.max(x))\n",
    "        return e_x / e_x.sum()\n",
    "\n",
    "    def feed_forward(self, inputs):\n",
    "        inputsBias = inputs[:]\n",
    "        inputsBias.insert(len(inputs),1)             # Add bias input\n",
    "\n",
    "        h1 = np.dot(self.w_i_h1, inputsBias)         # feed input to hidden layer 1\n",
    "        h1 = [self.ReLU(x) for x in h1]              # Activate hidden layer1\n",
    "\n",
    "        h2 = np.dot(self.w_h1_h2, h1)                 # feed layer 1 to hidden layer 2\n",
    "        h2 = [self.ReLU(x) for x in h2]              # Activate hidden layer 2\n",
    "\n",
    "        output = np.dot(self.w_h2_o, h2)             # feed to output layer\n",
    "        #output = [self.sigmoid(x) for x in output]   # Activate output layer\n",
    "        return self.softmax(output)\n",
    "\n",
    "    def getWeightsLinear(self):\n",
    "        flat_w_i_h1 = list(self.w_i_h1.flatten())\n",
    "        flat_w_h1_h2 = list(self.w_h1_h2.flatten())\n",
    "        flat_w_h2_o = list(self.w_h2_o.flatten())\n",
    "        return( flat_w_i_h1 + flat_w_h1_h2 + flat_w_h2_o )\n",
    "\n",
    "    def setWeightsLinear(self, Wgenome):\n",
    "        numWeights_I_H1 = self.numHidden1 * self.numInput\n",
    "        numWeights_H1_H2 = self.numHidden2 * self.numHidden1\n",
    "        numWeights_H2_O = self.numOutput * self.numHidden2\n",
    "\n",
    "        self.w_i_h1 = np.array(Wgenome[:numWeights_I_H1])\n",
    "        self.w_i_h1 = self.w_i_h1.reshape((self.numHidden1, self.numInput))\n",
    "\n",
    "        self.w_h1_h2 = np.array(Wgenome[numWeights_I_H1:(numWeights_H1_H2+numWeights_I_H1)])\n",
    "        self.w_h1_h2 = self.w_h1_h2.reshape((self.numHidden2, self.numHidden1))\n",
    "\n",
    "        self.w_h2_o = np.array(Wgenome[(numWeights_H1_H2+numWeights_I_H1):])\n",
    "        self.w_h2_o = self.w_h2_o.reshape((self.numOutput, self.numHidden2))"
   ],
   "metadata": {
    "collapsed": false,
    "pycharm": {
     "name": "#%%\n"
    }
   }
  },
  {
   "cell_type": "code",
   "execution_count": 288,
   "outputs": [],
   "source": [
    "random.seed(datetime.now()) # Set a random seed from the clock\n",
    "\n",
    "numInputNodes = 9\n",
    "numHiddenNodes1 = 8\n",
    "numHiddenNodes2 = 6\n",
    "numOutputNodes = 4\n",
    "\n",
    "IND_SIZE = ((numInputNodes+1) * numHiddenNodes1) + (numHiddenNodes1 * numHiddenNodes2) + (numHiddenNodes2 * numOutputNodes)"
   ],
   "metadata": {
    "collapsed": false,
    "pycharm": {
     "name": "#%%\n"
    }
   }
  },
  {
   "cell_type": "code",
   "execution_count": 289,
   "outputs": [],
   "source": [
    "myNet = MLP(numInputNodes, numHiddenNodes1, numHiddenNodes2, numOutputNodes)"
   ],
   "metadata": {
    "collapsed": false,
    "pycharm": {
     "name": "#%%\n"
    }
   }
  },
  {
   "cell_type": "code",
   "execution_count": 290,
   "metadata": {},
   "outputs": [],
   "source": [
    "snake_game = snake(XSIZE,YSIZE)"
   ]
  },
  {
   "cell_type": "code",
   "execution_count": 291,
   "outputs": [],
   "source": [
    "creator.create(\"FitnessMax\", base.Fitness, weights=(20,1,-0.5))\n",
    "creator.create(\"Individual\", list, fitness=creator.FitnessMax)\n",
    "\n",
    "toolbox = base.Toolbox()\n",
    "toolbox.register(\"attr_float\", random.uniform, -1, 1.0)\n",
    "toolbox.register(\"individual\", tools.initRepeat, creator.Individual,\n",
    "                 toolbox.attr_float, n=IND_SIZE)"
   ],
   "metadata": {
    "collapsed": false,
    "pycharm": {
     "name": "#%%\n"
    }
   }
  },
  {
   "cell_type": "code",
   "execution_count": 292,
   "outputs": [],
   "source": [
    "def evaluate(indiv, myNet):\n",
    "    myNet.setWeightsLinear(indiv)\n",
    "    max_timestep = 1000\n",
    "    score,correct_direction,incorrect_direction,timestep,timestep_tracker,total_direction_changes,game_over = run_game(display,myNet,snake_game,max_timestep=max_timestep)\n",
    "    if score == 0 and timestep_tracker >=max_timestep:\n",
    "        return -2,0,0,0,0\n",
    "    if score >=15:\n",
    "        print(score,timestep_tracker,timestep)\n",
    "    return score,timestep,timestep_tracker"
   ],
   "metadata": {
    "collapsed": false,
    "pycharm": {
     "name": "#%%\n"
    }
   }
  },
  {
   "cell_type": "code",
   "execution_count": 293,
   "outputs": [],
   "source": [
    "toolbox.register(\"evaluate\", evaluate)\n",
    "toolbox.register(\"select\",tools.selNSGA2)\n",
    "\n",
    "toolbox.register(\"mutate\", tools.mutGaussian, mu=0.0, sigma=0.5, indpb=0.5)\n",
    "toolbox.register(\"population\", tools.initRepeat, list, toolbox.individual)\n",
    "toolbox.register(\"mate\", tools.cxUniform, indpb=0.35)"
   ],
   "metadata": {
    "collapsed": false,
    "pycharm": {
     "name": "#%%\n"
    }
   }
  },
  {
   "cell_type": "code",
   "execution_count": 294,
   "outputs": [],
   "source": [
    "def pareto_eq(ind1, ind2):\n",
    "    return np.allclose(ind1.fitness.values, ind2.fitness.values)"
   ],
   "metadata": {
    "collapsed": false,
    "pycharm": {
     "name": "#%%\n"
    }
   }
  },
  {
   "cell_type": "code",
   "execution_count": 295,
   "outputs": [],
   "source": [
    "import wandb\n",
    "\n",
    "NGEN = 600\n",
    "popSize = MU = 1000\n",
    "LAMBDA = 200\n",
    "CXPB = 0.25\n",
    "MUTPB = 0.75\n",
    "\n",
    "\n",
    "wandb.config = {\n",
    "    \"NGEN\": NGEN,\n",
    "    \"popSize\": popSize,\n",
    "    \"LAMBDA\": LAMBDA,\n",
    "    \"CXPB\":CXPB,\n",
    "    \"MUTPB\": MUTPB\n",
    "}"
   ],
   "metadata": {
    "collapsed": false,
    "pycharm": {
     "name": "#%%\n"
    }
   }
  },
  {
   "cell_type": "code",
   "execution_count": 296,
   "outputs": [],
   "source": [
    "pop = toolbox.population(n=popSize)\n",
    "hof = tools.ParetoFront(similar=pareto_eq)\n",
    "\n",
    "stats = tools.Statistics(lambda ind: ind.fitness.values)\n",
    "stats.register(\"avg\", np.mean, axis=0)\n",
    "stats.register(\"std\", np.std, axis=0)\n",
    "stats.register(\"min\", np.min, axis=0)\n",
    "stats.register(\"max\", np.max, axis=0)\n",
    "logbook = tools.Logbook() #"
   ],
   "metadata": {
    "collapsed": false,
    "pycharm": {
     "name": "#%%\n"
    }
   }
  },
  {
   "cell_type": "code",
   "execution_count": 297,
   "outputs": [],
   "source": [
    "def run_game(display,brain,snake_game, headless=True,max_timestep=100):\n",
    "\n",
    "    score = 0\n",
    "    timestep = 0\n",
    "    timestep_tracker = 0\n",
    "    total_direction_changes = 0\n",
    "    snake_game.reset()\n",
    "    if not headless:\n",
    "        display.reset(snake_game.snake)\n",
    "        display.win.update()\n",
    "    snake_game.place_food()\n",
    "    game_over = False\n",
    "    snake_direction = \"right\"\n",
    "    correct_direction_steps= 0\n",
    "    incorrect_direction_steps = 0\n",
    "    flag = True\n",
    "    while not game_over:\n",
    "\n",
    "        # ****YOUR AI BELOW HERE******************\n",
    "\n",
    "        # Here is a very silly random snake controller. It moves with a correlated random walk, and the only sensible decision it makes is not to turn directly back on itself (possible in this game)\n",
    "        # *** Replace this with your evolved controller here to decide on the direction the snake should take*\n",
    "        directions = [\"up\",\"right\",\"down\",\"left\"]\n",
    "\n",
    "        def move_ai(brain):\n",
    "            blocked_sensor = [snake_game.sense_blocked_direction(direction) for direction in directions]\n",
    "            food_sensor = [snake_game.food_direction(direction) for direction in directions]\n",
    "            #print(food_sensor)\n",
    "            output = brain.feed_forward(blocked_sensor + food_sensor+[snake_game.sense_food_distance()])\n",
    "            #print(snake_game.sense_food_distance())\n",
    "            decision = np.argmax(output,axis=0)\n",
    "\n",
    "            if decision  == 0:\n",
    "                new_snake_direction = \"up\"\n",
    "            elif decision == 1:\n",
    "                new_snake_direction = \"right\"\n",
    "            elif decision == 2:\n",
    "                new_snake_direction = \"down\"\n",
    "            elif decision ==3:\n",
    "                new_snake_direction = \"left\"\n",
    "            return new_snake_direction\n",
    "\n",
    "        next_direction = move_ai(brain)\n",
    "        if snake_game.snake_direction != next_direction:\n",
    "            total_direction_changes +=1\n",
    "        snake_game.snake_direction = next_direction\n",
    "        timestep+=1\n",
    "        timestep_tracker+=1\n",
    "        if timestep_tracker >= max_timestep:\n",
    "            game_over = True\n",
    "        # Here is an example sensing function\n",
    "        for direction in directions:\n",
    "            if snake_game.sense_blocked_direction(direction):\n",
    "                #print(f\"BLOCKED AT {direction} \")\n",
    "                pass\n",
    "        if snake_game.food_direction(snake_game.snake_direction):\n",
    "            correct_direction_steps +=1\n",
    "        else:\n",
    "            incorrect_direction_steps +=1\n",
    "\n",
    "\n",
    "\n",
    "\n",
    "        # ****YOUR AI ABOVE HERE******************\n",
    "\n",
    "        snake_game.update_snake_position()\n",
    "\n",
    "        # Check if food is eaten\n",
    "        if snake_game.food_eaten():\n",
    "            snake_game.place_food()\n",
    "            #print(\"Food Eaten!\")\n",
    "            score += 1\n",
    "            timestep_tracker = 0\n",
    "\n",
    "            if not headless: display.add_snake_segment()\n",
    "\n",
    "        # Game over if the snake runs over itself\n",
    "        if snake_game.snake_turns_into_self():\n",
    "            game_over = True\n",
    "            #print(\"Snake turned into itself!\")\n",
    "\n",
    "        # Game over if the snake goes through a wall\n",
    "        if snake_game.snake_hit_wall():\n",
    "            game_over = True\n",
    "            #print(\"Snake hit a wall!\")\n",
    "\n",
    "        if not headless:\n",
    "            display.update_food(snake_game.food)\n",
    "            display.update_segment_positions(snake_game.snake)\n",
    "            display.win.update()\n",
    "            time.sleep(0.05) # Change this to modify the speed the game runs at when displayed.\n",
    "\n",
    "    #print(\"FINAL score - \" + str(score))\n",
    "    #print(\"\\nFINAL timestep - \" + str(timestep))\n",
    "\n",
    "    return (score,correct_direction_steps,incorrect_direction_steps,timestep,timestep_tracker,total_direction_changes,game_over)\n"
   ],
   "metadata": {
    "collapsed": false,
    "pycharm": {
     "name": "#%%\n"
    }
   }
  },
  {
   "cell_type": "code",
   "execution_count": 298,
   "outputs": [
    {
     "name": "stdout",
     "output_type": "stream",
     "text": [
      "[(0, 1, 1), (0, 1, 1), (0, 7, 7), (0, 9, 9), (0, 1, 1), (0, 8, 8), (0, 19, 19), (0, 7, 7), (0, 7, 7), (0, 7, 7), (0, 8, 8), (0, 8, 8), (0, 1, 1), (0, 2, 2), (0, 1, 1), (0, 8, 8), (0, 5, 5), (0, 6, 6), (0, 1, 1), (0, 5, 5), (0, 15, 15), (0, 7, 7), (0, 5, 5), (0, 8, 8), (0, 9, 9), (0, 6, 6), (0, 8, 8), (0, 14, 14), (0, 7, 7), (0, 7, 7), (0, 1, 1), (0, 8, 8), (0, 16, 16), (0, 1, 1), (0, 1, 1), (0, 17, 17), (0, 5, 5), (0, 1, 1), (0, 5, 5), (0, 5, 5), (0, 5, 5), (0, 4, 4), (0, 1, 1), (0, 8, 8), (0, 5, 5), (0, 8, 8), (0, 1, 1), (0, 8, 8), (0, 2, 2), (0, 5, 5), (0, 8, 8), (0, 1, 1), (0, 1, 1), (0, 9, 9), (0, 11, 11), (0, 1, 1), (0, 1, 1), (0, 10, 10), (0, 6, 6), (0, 16, 16), (0, 8, 8), (0, 5, 5), (0, 1, 1), (0, 8, 8), (0, 12, 12), (0, 5, 5), (0, 1, 1), (0, 2, 2), (1, 13, 5), (0, 7, 7), (0, 2, 2), (0, 1, 1), (0, 8, 8), (0, 8, 8), (0, 1, 1), (0, 5, 5), (0, 5, 5), (0, 1, 1), (0, 2, 2), (0, 1, 1), (0, 5, 5), (0, 7, 7), (0, 2, 2), (0, 8, 8), (0, 1, 1), (0, 1, 1), (0, 5, 5), (0, 7, 7), (0, 8, 8), (0, 5, 5), (0, 1, 1), (0, 12, 12), (0, 5, 5), (0, 1, 1), (0, 8, 8), (0, 5, 5), (0, 3, 3), (0, 7, 7), (0, 7, 7), (0, 1, 1), (0, 1, 1), (0, 1, 1), (0, 16, 16), (0, 5, 5), (0, 1, 1), (0, 1, 1), (0, 1, 1), (0, 12, 12), (0, 5, 5), (0, 8, 8), (0, 4, 4), (0, 1, 1), (0, 5, 5), (0, 7, 7), (0, 6, 6), (0, 5, 5), (0, 8, 8), (0, 5, 5), (0, 7, 7), (0, 5, 5), (1, 12, 1), (0, 1, 1), (0, 7, 7), (0, 1, 1), (0, 6, 6), (0, 1, 1), (0, 5, 5), (0, 2, 2), (0, 1, 1), (0, 8, 8), (0, 5, 5), (0, 3, 3), (0, 8, 8), (0, 8, 8), (0, 5, 5), (0, 2, 2), (0, 8, 8), (0, 8, 8), (0, 1, 1), (0, 7, 7), (0, 5, 5), (0, 1, 1), (0, 15, 15), (0, 7, 7), (0, 2, 2), (0, 9, 9), (0, 2, 2), (0, 7, 7), (0, 5, 5), (0, 1, 1), (0, 7, 7), (1, 8, 1), (0, 8, 8), (0, 5, 5), (1, 17, 3), (0, 8, 8), (0, 8, 8), (0, 1, 1), (0, 7, 7), (0, 5, 5), (0, 1, 1), (0, 8, 8), (0, 1, 1), (0, 8, 8), (0, 1, 1), (0, 12, 12), (0, 1, 1), (0, 5, 5), (0, 12, 12), (0, 2, 2), (0, 12, 12), (0, 8, 8), (0, 1, 1), (0, 1, 1), (0, 1, 1), (0, 11, 11), (0, 7, 7), (0, 1, 1), (0, 5, 5), (0, 8, 8), (0, 1, 1), (0, 9, 9), (0, 7, 7), (1, 7, 1), (0, 1, 1), (0, 5, 5), (1, 11, 3), (0, 1, 1), (0, 8, 8), (0, 2, 2), (0, 1, 1), (0, 10, 10), (0, 5, 5), (0, 7, 7), (0, 1, 1), (0, 5, 5), (0, 1, 1), (0, 8, 8), (0, 1, 1), (0, 7, 7), (1, 13, 7), (0, 1, 1), (0, 1, 1), (0, 7, 7), (0, 1, 1), (0, 1, 1), (0, 7, 7), (0, 1, 1), (0, 8, 8), (0, 5, 5), (0, 8, 8), (0, 1, 1), (0, 20, 20), (0, 7, 7), (0, 15, 15), (0, 7, 7), (0, 7, 7), (0, 8, 8), (0, 1, 1), (0, 5, 5), (0, 7, 7), (0, 8, 8), (0, 2, 2), (0, 11, 11), (0, 5, 5), (0, 8, 8), (0, 2, 2), (0, 7, 7), (1, 5, 1), (0, 1, 1), (0, 5, 5), (0, 9, 9), (0, 1, 1), (0, 1, 1), (0, 1, 1), (0, 7, 7), (0, 8, 8), (0, 5, 5), (0, 5, 5), (0, 2, 2), (0, 1, 1), (0, 8, 8), (0, 12, 12), (1, 25, 4), (0, 5, 5), (0, 8, 8), (0, 7, 7), (0, 8, 8), (0, 7, 7), (0, 11, 11), (0, 8, 8), (0, 5, 5), (0, 5, 5), (0, 1, 1), (0, 29, 29), (0, 1, 1), (0, 7, 7), (0, 5, 5), (0, 5, 5), (0, 1, 1), (1, 8, 1), (0, 1, 1), (0, 12, 12), (0, 7, 7), (0, 8, 8), (0, 10, 10), (0, 5, 5), (0, 1, 1), (0, 11, 11), (0, 5, 5), (0, 10, 10), (0, 1, 1), (0, 8, 8), (0, 16, 16), (0, 4, 4), (0, 1, 1), (0, 7, 7), (0, 1, 1), (0, 5, 5), (0, 1, 1), (0, 5, 5), (0, 8, 8), (0, 7, 7), (0, 1, 1), (0, 8, 8), (0, 7, 7), (0, 1, 1), (0, 1, 1), (0, 8, 8), (0, 1, 1), (0, 5, 5), (0, 2, 2), (0, 2, 2), (0, 1, 1), (0, 8, 8), (0, 1, 1), (0, 1, 1), (0, 7, 7), (0, 7, 7), (0, 1, 1), (0, 1, 1), (0, 1, 1), (0, 2, 2), (0, 1, 1), (0, 1, 1), (0, 7, 7), (0, 2, 2), (0, 9, 9), (0, 1, 1), (0, 5, 5), (0, 7, 7), (0, 7, 7), (0, 5, 5), (0, 5, 5), (0, 8, 8), (1, 5, 2), (0, 7, 7), (0, 7, 7), (0, 7, 7), (0, 1, 1), (0, 1, 1), (0, 7, 7), (0, 10, 10), (0, 1, 1), (0, 1, 1), (0, 5, 5), (0, 1, 1), (0, 1, 1), (0, 2, 2), (0, 1, 1), (1, 5, 1), (0, 7, 7), (0, 7, 7), (0, 1, 1), (0, 5, 5), (0, 16, 16), (0, 1, 1), (0, 12, 12), (0, 1, 1), (0, 5, 5), (0, 1, 1), (0, 5, 5), (0, 5, 5), (0, 1, 1), (0, 5, 5), (0, 7, 7), (0, 5, 5), (1, 10, 5), (0, 7, 7), (0, 8, 8), (0, 11, 11), (0, 8, 8), (0, 1, 1), (0, 5, 5), (0, 1, 1), (0, 5, 5), (0, 5, 5), (0, 7, 7), (0, 7, 7), (0, 1, 1), (0, 1, 1), (0, 3, 3), (0, 5, 5), (0, 2, 2), (0, 1, 1), (0, 9, 9), (0, 1, 1), (0, 5, 5), (0, 2, 2), (0, 12, 12), (0, 1, 1), (0, 1, 1), (1, 13, 5), (0, 4, 4), (0, 3, 3), (0, 2, 2), (0, 8, 8), (0, 2, 2), (0, 6, 6), (0, 6, 6), (0, 1, 1), (0, 1, 1), (0, 7, 7), (0, 11, 11), (0, 2, 2), (0, 7, 7), (0, 11, 11), (0, 8, 8), (0, 1, 1), (0, 5, 5), (0, 8, 8), (0, 1, 1), (0, 7, 7), (0, 5, 5), (0, 1, 1), (0, 5, 5), (0, 5, 5), (0, 8, 8), (0, 7, 7), (0, 9, 9), (0, 1, 1), (0, 9, 9), (0, 1, 1), (0, 8, 8), (0, 8, 8), (0, 1, 1), (0, 1, 1), (0, 7, 7), (0, 1, 1), (0, 8, 8), (0, 5, 5), (0, 5, 5), (0, 5, 5), (0, 1, 1), (0, 10, 10), (0, 7, 7), (0, 7, 7), (0, 5, 5), (0, 1, 1), (0, 7, 7), (0, 7, 7), (0, 1, 1), (0, 1, 1), (0, 5, 5), (0, 11, 11), (0, 7, 7), (0, 5, 5), (0, 2, 2), (0, 2, 2), (0, 8, 8), (0, 2, 2), (0, 3, 3), (0, 7, 7), (0, 5, 5), (0, 12, 12), (0, 12, 12), (0, 8, 8), (0, 5, 5), (0, 1, 1), (0, 1, 1), (0, 2, 2), (1, 5, 2), (0, 1, 1), (0, 5, 5), (0, 1, 1), (0, 5, 5), (0, 8, 8), (0, 4, 4), (0, 1, 1), (0, 8, 8), (0, 8, 8), (0, 8, 8), (0, 10, 10), (0, 17, 17), (0, 8, 8), (1, 16, 9), (0, 7, 7), (0, 5, 5), (0, 1, 1), (0, 8, 8), (0, 7, 7), (0, 5, 5), (0, 8, 8), (0, 5, 5), (0, 5, 5), (0, 7, 7), (0, 8, 8), (0, 1, 1), (0, 7, 7), (0, 1, 1), (0, 5, 5), (0, 9, 9), (0, 1, 1), (0, 2, 2), (0, 15, 15), (0, 7, 7), (0, 5, 5), (0, 8, 8), (0, 4, 4), (0, 11, 11), (0, 5, 5), (0, 1, 1), (0, 8, 8), (0, 5, 5), (0, 5, 5), (0, 8, 8), (0, 5, 5), (0, 5, 5), (0, 1, 1), (0, 1, 1), (0, 7, 7), (0, 2, 2), (0, 10, 10), (0, 5, 5), (0, 12, 12), (0, 7, 7), (0, 8, 8), (0, 8, 8), (0, 21, 21), (0, 5, 5), (0, 8, 8), (0, 13, 13), (0, 6, 6), (0, 2, 2), (0, 7, 7), (0, 4, 4), (0, 1, 1), (0, 9, 9), (0, 1, 1), (0, 1, 1), (0, 10, 10), (0, 1, 1), (0, 5, 5), (0, 8, 8), (0, 5, 5), (0, 5, 5), (0, 7, 7), (0, 7, 7), (0, 3, 3), (0, 7, 7), (0, 8, 8), (0, 8, 8), (0, 1, 1), (0, 7, 7), (0, 8, 8), (0, 1, 1), (0, 17, 17), (0, 5, 5), (0, 7, 7), (0, 8, 8), (0, 1, 1), (0, 1, 1), (0, 8, 8), (0, 1, 1), (0, 11, 11), (0, 8, 8), (0, 5, 5), (0, 5, 5), (0, 8, 8), (0, 1, 1), (0, 2, 2), (0, 1, 1), (1, 11, 5), (0, 7, 7), (0, 1, 1), (0, 1, 1), (0, 8, 8), (0, 1, 1), (0, 5, 5), (0, 16, 16), (0, 2, 2), (0, 1, 1), (0, 1, 1), (0, 8, 8), (0, 7, 7), (0, 8, 8), (0, 8, 8), (0, 5, 5), (0, 5, 5), (0, 5, 5), (0, 8, 8), (0, 7, 7), (0, 5, 5), (0, 5, 5), (0, 1, 1), (0, 6, 6), (0, 5, 5), (0, 5, 5), (0, 8, 8), (0, 5, 5), (0, 2, 2), (0, 5, 5), (0, 1, 1), (0, 1, 1), (0, 10, 10), (0, 9, 9), (0, 12, 12), (0, 12, 12), (0, 1, 1), (0, 1, 1), (0, 10, 10), (0, 5, 5), (0, 1, 1), (0, 1, 1), (0, 1, 1), (0, 1, 1), (0, 16, 16), (0, 2, 2), (0, 1, 1), (0, 5, 5), (0, 7, 7), (0, 8, 8), (0, 5, 5), (0, 1, 1), (0, 1, 1), (0, 10, 10), (0, 12, 12), (0, 7, 7), (0, 7, 7), (0, 1, 1), (0, 8, 8), (0, 4, 4), (0, 11, 11), (0, 12, 12), (0, 1, 1), (0, 5, 5), (0, 8, 8), (0, 1, 1), (0, 7, 7), (0, 5, 5), (0, 9, 9), (0, 7, 7), (0, 1, 1), (0, 3, 3), (0, 1, 1), (0, 5, 5), (0, 5, 5), (0, 1, 1), (0, 1, 1), (0, 15, 15), (0, 1, 1), (0, 8, 8), (0, 8, 8), (0, 7, 7), (0, 2, 2), (0, 5, 5), (0, 1, 1), (0, 17, 17), (0, 8, 8), (0, 5, 5), (0, 5, 5), (0, 8, 8), (0, 10, 10), (0, 17, 17), (0, 11, 11), (0, 7, 7), (0, 7, 7), (0, 5, 5), (0, 1, 1), (0, 7, 7), (0, 8, 8), (0, 8, 8), (0, 8, 8), (0, 11, 11), (0, 8, 8), (0, 5, 5), (0, 1, 1), (0, 13, 13), (0, 1, 1), (0, 7, 7), (0, 9, 9), (0, 1, 1), (0, 8, 8), (0, 8, 8), (0, 5, 5), (0, 7, 7), (0, 12, 12), (0, 7, 7), (0, 1, 1), (0, 8, 8), (0, 1, 1), (0, 15, 15), (0, 5, 5), (0, 9, 9), (0, 1, 1), (0, 5, 5), (1, 16, 6), (0, 1, 1), (0, 7, 7), (0, 1, 1), (0, 1, 1), (0, 11, 11), (0, 8, 8), (0, 2, 2), (0, 5, 5), (0, 7, 7), (0, 7, 7), (0, 1, 1), (0, 1, 1), (0, 1, 1), (0, 7, 7), (0, 5, 5), (0, 6, 6), (0, 8, 8), (0, 8, 8), (0, 5, 5), (0, 5, 5), (0, 10, 10), (0, 1, 1), (0, 5, 5), (0, 8, 8), (0, 7, 7), (0, 13, 13), (0, 5, 5), (0, 8, 8), (0, 7, 7), (0, 1, 1), (0, 1, 1), (0, 5, 5), (0, 9, 9), (0, 8, 8), (0, 1, 1), (0, 11, 11), (0, 8, 8), (0, 1, 1), (0, 7, 7), (0, 6, 6), (0, 1, 1), (0, 10, 10), (0, 5, 5), (0, 8, 8), (0, 5, 5), (0, 7, 7), (0, 9, 9), (1, 7, 1), (0, 8, 8), (1, 11, 2), (0, 1, 1), (0, 7, 7), (0, 3, 3), (0, 5, 5), (0, 9, 9), (0, 5, 5), (0, 4, 4), (0, 1, 1), (0, 7, 7), (0, 1, 1), (0, 2, 2), (0, 8, 8), (0, 12, 12), (0, 7, 7), (0, 8, 8), (0, 7, 7), (0, 2, 2), (0, 7, 7), (0, 1, 1), (0, 8, 8), (0, 8, 8), (0, 2, 2), (0, 1, 1), (0, 2, 2), (0, 7, 7), (0, 6, 6), (0, 5, 5), (0, 7, 7), (0, 5, 5), (0, 7, 7), (0, 2, 2), (0, 8, 8), (0, 10, 10), (0, 8, 8), (0, 2, 2), (0, 7, 7), (0, 2, 2), (0, 5, 5), (0, 16, 16), (0, 5, 5), (0, 8, 8), (0, 6, 6), (0, 1, 1), (0, 5, 5), (0, 6, 6), (0, 8, 8), (0, 1, 1), (0, 8, 8), (0, 5, 5), (1, 3, 1), (0, 1, 1), (0, 5, 5), (0, 1, 1), (0, 2, 2), (0, 1, 1), (0, 13, 13), (0, 7, 7), (0, 8, 8), (0, 1, 1), (0, 5, 5), (0, 7, 7), (0, 5, 5), (0, 11, 11), (0, 1, 1), (0, 8, 8), (1, 5, 1), (0, 1, 1), (0, 7, 7), (0, 9, 9), (0, 5, 5), (0, 7, 7), (0, 1, 1), (0, 1, 1), (0, 8, 8), (0, 8, 8), (0, 5, 5), (0, 1, 1), (0, 1, 1), (0, 1, 1), (0, 7, 7), (0, 10, 10), (0, 2, 2), (0, 8, 8), (0, 1, 1), (0, 11, 11), (0, 11, 11), (0, 11, 11), (0, 8, 8), (0, 1, 1), (0, 1, 1), (0, 4, 4), (0, 11, 11), (0, 2, 2), (0, 5, 5), (0, 1, 1), (1, 19, 6), (0, 1, 1), (0, 8, 8), (0, 8, 8), (0, 1, 1), (0, 2, 2), (0, 8, 8), (0, 5, 5), (0, 1, 1), (0, 1, 1), (0, 8, 8), (0, 1, 1), (0, 12, 12), (2, 19, 4), (0, 5, 5), (1, 7, 1), (0, 8, 8), (0, 6, 6), (0, 5, 5), (0, 1, 1), (0, 7, 7), (0, 8, 8), (0, 8, 8), (0, 1, 1), (0, 1, 1), (0, 8, 8), (0, 7, 7), (0, 6, 6), (0, 5, 5), (0, 7, 7), (0, 5, 5), (0, 5, 5), (0, 8, 8), (0, 1, 1), (0, 6, 6), (0, 1, 1), (0, 7, 7), (0, 1, 1), (0, 1, 1), (0, 11, 11), (0, 1, 1), (0, 7, 7), (0, 7, 7), (0, 7, 7), (0, 7, 7), (0, 7, 7), (0, 5, 5), (0, 5, 5), (0, 11, 11), (0, 1, 1), (0, 10, 10), (0, 2, 2), (0, 8, 8), (0, 8, 8), (0, 3, 3), (0, 1, 1), (1, 8, 2), (0, 2, 2), (0, 8, 8), (1, 12, 6), (0, 5, 5), (0, 8, 8), (0, 8, 8), (1, 16, 7), (0, 5, 5), (0, 5, 5), (0, 8, 8), (0, 17, 17), (0, 11, 11), (0, 8, 8), (0, 1, 1), (0, 1, 1), (0, 12, 12), (0, 8, 8), (0, 8, 8), (0, 5, 5), (0, 5, 5), (0, 8, 8), (0, 5, 5), (0, 7, 7), (0, 1, 1), (0, 10, 10), (0, 7, 7), (0, 1, 1), (0, 12, 12), (0, 5, 5), (0, 7, 7), (0, 2, 2), (0, 5, 5), (0, 1, 1), (0, 1, 1), (0, 5, 5), (0, 1, 1), (0, 12, 12), (0, 1, 1), (0, 8, 8), (0, 5, 5), (0, 5, 5), (0, 1, 1), (0, 1, 1), (0, 1, 1), (0, 1, 1), (0, 5, 5), (0, 8, 8), (0, 5, 5), (0, 8, 8), (0, 1, 1), (0, 9, 9), (1, 14, 7), (0, 7, 7), (0, 1, 1), (0, 2, 2), (0, 1, 1), (0, 8, 8), (0, 8, 8), (0, 8, 8), (0, 2, 2), (0, 1, 1), (0, 1, 1), (0, 6, 6), (0, 2, 2), (0, 8, 8), (0, 11, 11), (0, 1, 1), (0, 1, 1), (0, 8, 8), (0, 1, 1), (0, 1, 1), (0, 7, 7), (0, 3, 3), (0, 14, 14), (0, 1, 1), (0, 1, 1), (0, 1, 1), (0, 7, 7), (0, 6, 6), (0, 1, 1), (0, 5, 5), (0, 12, 12), (0, 5, 5), (0, 8, 8), (0, 11, 11), (0, 8, 8), (0, 8, 8), (0, 7, 7), (0, 8, 8), (0, 7, 7), (0, 8, 8), (0, 2, 2), (0, 7, 7), (0, 8, 8), (0, 7, 7), (0, 2, 2), (0, 1, 1), (0, 5, 5), (0, 7, 7), (0, 7, 7), (0, 1, 1), (0, 8, 8), (0, 10, 10), (1, 10, 8), (0, 9, 9), (0, 5, 5), (1, 7, 4), (0, 10, 10), (0, 5, 5), (0, 1, 1), (0, 16, 16), (0, 1, 1), (0, 17, 17), (0, 5, 5), (1, 5, 4), (0, 5, 5), (0, 5, 5), (0, 1, 1), (0, 6, 6), (0, 5, 5), (0, 7, 7), (0, 9, 9), (0, 1, 1), (0, 7, 7), (0, 11, 11), (0, 2, 2), (0, 8, 8), (0, 8, 8), (0, 8, 8), (0, 2, 2), (0, 7, 7)]\n"
     ]
    }
   ],
   "source": [
    "fitnesses = [toolbox.evaluate(ind,myNet) for ind in pop]\n",
    "print(fitnesses)\n",
    "for ind, fit in zip(pop, fitnesses):\n",
    "    ind.fitness.values = fit"
   ],
   "metadata": {
    "collapsed": false,
    "pycharm": {
     "name": "#%%\n"
    }
   }
  },
  {
   "cell_type": "code",
   "execution_count": 299,
   "outputs": [
    {
     "data": {
      "text/plain": "<IPython.core.display.HTML object>",
      "text/html": "Finishing last run (ID:3rxjzenf) before initializing another..."
     },
     "metadata": {},
     "output_type": "display_data"
    },
    {
     "data": {
      "text/plain": "<IPython.core.display.HTML object>",
      "text/html": "<br/>Waiting for W&B process to finish, PID 14020... <strong style=\"color:green\">(success).</strong>"
     },
     "metadata": {},
     "output_type": "display_data"
    },
    {
     "data": {
      "text/plain": "VBox(children=(Label(value=' 0.00MB of 0.00MB uploaded (0.00MB deduped)\\r'), FloatProgress(value=1.0, max=1.0)…",
      "application/vnd.jupyter.widget-view+json": {
       "version_major": 2,
       "version_minor": 0,
       "model_id": "74e889fc30f74a9e9d2630c7e8803c01"
      }
     },
     "metadata": {},
     "output_type": "display_data"
    },
    {
     "data": {
      "text/plain": "<IPython.core.display.HTML object>",
      "text/html": "<style>\n    table.wandb td:nth-child(1) { padding: 0 10px; text-align: right }\n    .wandb-row { display: flex; flex-direction: row; flex-wrap: wrap; width: 100% }\n    .wandb-col { display: flex; flex-direction: column; flex-basis: 100%; flex: 1; padding: 10px; }\n    </style>\n<div class=\"wandb-row\"><div class=\"wandb-col\">\n</div><div class=\"wandb-col\">\n</div></div>\nSynced 5 W&B file(s), 0 media file(s), 0 artifact file(s) and 0 other file(s)\n<br/>Synced <strong style=\"color:#cdcd00\">efficient-capybara-81</strong>: <a href=\"https://wandb.ai/samk/EVAC/runs/3rxjzenf\" target=\"_blank\">https://wandb.ai/samk/EVAC/runs/3rxjzenf</a><br/>\nFind logs at: <code>.\\wandb\\run-20220308_213432-3rxjzenf\\logs</code><br/>\n"
     },
     "metadata": {},
     "output_type": "display_data"
    },
    {
     "data": {
      "text/plain": "<IPython.core.display.HTML object>",
      "text/html": "Successfully finished last run (ID:3rxjzenf). Initializing new run:<br/>"
     },
     "metadata": {},
     "output_type": "display_data"
    },
    {
     "name": "stderr",
     "output_type": "stream",
     "text": [
      "wandb: wandb version 0.12.11 is available!  To upgrade, please run:\n",
      "wandb:  $ pip install wandb --upgrade\n"
     ]
    },
    {
     "data": {
      "text/plain": "<IPython.core.display.HTML object>",
      "text/html": "\n                    Syncing run <strong><a href=\"https://wandb.ai/samk/EVAC/runs/15ovj8il\" target=\"_blank\">dutiful-sun-82</a></strong> to <a href=\"https://wandb.ai/samk/EVAC\" target=\"_blank\">Weights & Biases</a> (<a href=\"https://docs.wandb.com/integrations/jupyter.html\" target=\"_blank\">docs</a>).<br/>\n\n                "
     },
     "metadata": {},
     "output_type": "display_data"
    },
    {
     "name": "stdout",
     "output_type": "stream",
     "text": [
      "-- Generation 0 --\n",
      "-- Generation 1 --\n",
      "-- Generation 2 --\n",
      "-- Generation 3 --\n",
      "-- Generation 4 --\n",
      "-- Generation 5 --\n",
      "-- Generation 6 --\n",
      "-- Generation 7 --\n",
      "-- Generation 8 --\n",
      "-- Generation 9 --\n",
      "-- Generation 10 --\n",
      "-- Generation 11 --\n",
      "-- Generation 12 --\n",
      "-- Generation 13 --\n",
      "-- Generation 14 --\n",
      "-- Generation 15 --\n",
      "-- Generation 16 --\n",
      "-- Generation 17 --\n",
      "-- Generation 18 --\n",
      "-- Generation 19 --\n",
      "-- Generation 20 --\n",
      "-- Generation 21 --\n",
      "-- Generation 22 --\n",
      "-- Generation 23 --\n",
      "-- Generation 24 --\n",
      "-- Generation 25 --\n",
      "-- Generation 26 --\n",
      "-- Generation 27 --\n",
      "-- Generation 28 --\n",
      "-- Generation 29 --\n",
      "-- Generation 30 --\n",
      "-- Generation 31 --\n",
      "-- Generation 32 --\n",
      "-- Generation 33 --\n",
      "-- Generation 34 --\n",
      "-- Generation 35 --\n",
      "-- Generation 36 --\n",
      "-- Generation 37 --\n",
      "-- Generation 38 --\n",
      "-- Generation 39 --\n",
      "-- Generation 40 --\n",
      "-- Generation 41 --\n",
      "-- Generation 42 --\n",
      "-- Generation 43 --\n",
      "-- Generation 44 --\n",
      "-- Generation 45 --\n",
      "-- Generation 46 --\n",
      "-- Generation 47 --\n",
      "-- Generation 48 --\n",
      "-- Generation 49 --\n",
      "-- Generation 50 --\n",
      "-- Generation 51 --\n",
      "-- Generation 52 --\n",
      "-- Generation 53 --\n",
      "-- Generation 54 --\n",
      "-- Generation 55 --\n",
      "-- Generation 56 --\n",
      "-- Generation 57 --\n",
      "-- Generation 58 --\n",
      "-- Generation 59 --\n",
      "-- Generation 60 --\n",
      "-- Generation 61 --\n",
      "-- Generation 62 --\n",
      "-- Generation 63 --\n",
      "-- Generation 64 --\n",
      "-- Generation 65 --\n",
      "-- Generation 66 --\n",
      "-- Generation 67 --\n",
      "-- Generation 68 --\n",
      "-- Generation 69 --\n",
      "-- Generation 70 --\n",
      "-- Generation 71 --\n",
      "-- Generation 72 --\n",
      "-- Generation 73 --\n",
      "-- Generation 74 --\n",
      "-- Generation 75 --\n",
      "-- Generation 76 --\n",
      "-- Generation 77 --\n",
      "-- Generation 78 --\n",
      "-- Generation 79 --\n",
      "-- Generation 80 --\n",
      "-- Generation 81 --\n",
      "-- Generation 82 --\n",
      "-- Generation 83 --\n",
      "-- Generation 84 --\n",
      "-- Generation 85 --\n",
      "-- Generation 86 --\n",
      "-- Generation 87 --\n",
      "-- Generation 88 --\n",
      "-- Generation 89 --\n",
      "-- Generation 90 --\n",
      "-- Generation 91 --\n",
      "-- Generation 92 --\n",
      "-- Generation 93 --\n",
      "-- Generation 94 --\n",
      "-- Generation 95 --\n",
      "-- Generation 96 --\n",
      "-- Generation 97 --\n",
      "-- Generation 98 --\n",
      "-- Generation 99 --\n",
      "-- Generation 100 --\n",
      "-- Generation 101 --\n",
      "-- Generation 102 --\n",
      "-- Generation 103 --\n",
      "-- Generation 104 --\n",
      "-- Generation 105 --\n",
      "-- Generation 106 --\n",
      "-- Generation 107 --\n",
      "-- Generation 108 --\n",
      "-- Generation 109 --\n",
      "-- Generation 110 --\n",
      "-- Generation 111 --\n",
      "-- Generation 112 --\n",
      "-- Generation 113 --\n",
      "-- Generation 114 --\n",
      "-- Generation 115 --\n",
      "-- Generation 116 --\n",
      "-- Generation 117 --\n",
      "-- Generation 118 --\n",
      "-- Generation 119 --\n",
      "-- Generation 120 --\n",
      "-- Generation 121 --\n",
      "-- Generation 122 --\n",
      "-- Generation 123 --\n",
      "-- Generation 124 --\n",
      "-- Generation 125 --\n",
      "-- Generation 126 --\n",
      "-- Generation 127 --\n",
      "-- Generation 128 --\n",
      "-- Generation 129 --\n",
      "-- Generation 130 --\n",
      "-- Generation 131 --\n",
      "-- Generation 132 --\n",
      "-- Generation 133 --\n",
      "-- Generation 134 --\n",
      "-- Generation 135 --\n",
      "-- Generation 136 --\n",
      "-- Generation 137 --\n",
      "-- Generation 138 --\n",
      "-- Generation 139 --\n",
      "-- Generation 140 --\n",
      "-- Generation 141 --\n",
      "-- Generation 142 --\n",
      "-- Generation 143 --\n",
      "-- Generation 144 --\n",
      "-- Generation 145 --\n",
      "-- Generation 146 --\n",
      "-- Generation 147 --\n",
      "-- Generation 148 --\n",
      "-- Generation 149 --\n",
      "-- Generation 150 --\n",
      "-- Generation 151 --\n",
      "-- Generation 152 --\n",
      "-- Generation 153 --\n",
      "-- Generation 154 --\n",
      "-- Generation 155 --\n",
      "-- Generation 156 --\n",
      "-- Generation 157 --\n",
      "-- Generation 158 --\n",
      "-- Generation 159 --\n",
      "-- Generation 160 --\n",
      "-- Generation 161 --\n",
      "-- Generation 162 --\n",
      "-- Generation 163 --\n",
      "-- Generation 164 --\n",
      "-- Generation 165 --\n",
      "-- Generation 166 --\n",
      "-- Generation 167 --\n",
      "-- Generation 168 --\n",
      "-- Generation 169 --\n",
      "-- Generation 170 --\n",
      "-- Generation 171 --\n",
      "-- Generation 172 --\n",
      "-- Generation 173 --\n",
      "-- Generation 174 --\n",
      "-- Generation 175 --\n",
      "-- Generation 176 --\n",
      "-- Generation 177 --\n",
      "-- Generation 178 --\n",
      "-- Generation 179 --\n",
      "-- Generation 180 --\n",
      "-- Generation 181 --\n",
      "-- Generation 182 --\n",
      "-- Generation 183 --\n",
      "-- Generation 184 --\n",
      "-- Generation 185 --\n",
      "-- Generation 186 --\n",
      "-- Generation 187 --\n",
      "-- Generation 188 --\n",
      "-- Generation 189 --\n",
      "-- Generation 190 --\n",
      "-- Generation 191 --\n",
      "-- Generation 192 --\n",
      "-- Generation 193 --\n",
      "-- Generation 194 --\n",
      "-- Generation 195 --\n",
      "-- Generation 196 --\n",
      "-- Generation 197 --\n",
      "-- Generation 198 --\n",
      "-- Generation 199 --\n",
      "-- Generation 200 --\n",
      "-- Generation 201 --\n",
      "-- Generation 202 --\n",
      "-- Generation 203 --\n",
      "-- Generation 204 --\n",
      "-- Generation 205 --\n",
      "-- Generation 206 --\n",
      "-- Generation 207 --\n",
      "-- Generation 208 --\n",
      "-- Generation 209 --\n",
      "-- Generation 210 --\n",
      "-- Generation 211 --\n",
      "-- Generation 212 --\n",
      "-- Generation 213 --\n",
      "-- Generation 214 --\n",
      "-- Generation 215 --\n",
      "-- Generation 216 --\n",
      "-- Generation 217 --\n",
      "-- Generation 218 --\n",
      "-- Generation 219 --\n",
      "-- Generation 220 --\n",
      "-- Generation 221 --\n",
      "-- Generation 222 --\n",
      "-- Generation 223 --\n",
      "-- Generation 224 --\n",
      "-- Generation 225 --\n",
      "-- Generation 226 --\n",
      "-- Generation 227 --\n",
      "-- Generation 228 --\n",
      "-- Generation 229 --\n",
      "-- Generation 230 --\n",
      "-- Generation 231 --\n",
      "-- Generation 232 --\n",
      "-- Generation 233 --\n",
      "-- Generation 234 --\n",
      "-- Generation 235 --\n",
      "-- Generation 236 --\n",
      "-- Generation 237 --\n",
      "-- Generation 238 --\n",
      "-- Generation 239 --\n",
      "-- Generation 240 --\n",
      "-- Generation 241 --\n",
      "-- Generation 242 --\n",
      "-- Generation 243 --\n",
      "-- Generation 244 --\n",
      "-- Generation 245 --\n",
      "-- Generation 246 --\n",
      "-- Generation 247 --\n",
      "-- Generation 248 --\n",
      "-- Generation 249 --\n",
      "-- Generation 250 --\n",
      "-- Generation 251 --\n",
      "-- Generation 252 --\n",
      "-- Generation 253 --\n",
      "-- Generation 254 --\n",
      "-- Generation 255 --\n",
      "-- Generation 256 --\n",
      "-- Generation 257 --\n",
      "-- Generation 258 --\n",
      "-- Generation 259 --\n",
      "-- Generation 260 --\n",
      "-- Generation 261 --\n",
      "-- Generation 262 --\n",
      "-- Generation 263 --\n",
      "-- Generation 264 --\n",
      "-- Generation 265 --\n",
      "-- Generation 266 --\n",
      "-- Generation 267 --\n",
      "-- Generation 268 --\n",
      "-- Generation 269 --\n",
      "-- Generation 270 --\n",
      "-- Generation 271 --\n",
      "-- Generation 272 --\n",
      "-- Generation 273 --\n",
      "-- Generation 274 --\n",
      "-- Generation 275 --\n",
      "-- Generation 276 --\n",
      "-- Generation 277 --\n",
      "-- Generation 278 --\n",
      "-- Generation 279 --\n",
      "-- Generation 280 --\n",
      "-- Generation 281 --\n",
      "-- Generation 282 --\n",
      "-- Generation 283 --\n",
      "-- Generation 284 --\n",
      "-- Generation 285 --\n",
      "-- Generation 286 --\n",
      "-- Generation 287 --\n",
      "-- Generation 288 --\n",
      "-- Generation 289 --\n",
      "-- Generation 290 --\n",
      "-- Generation 291 --\n",
      "-- Generation 292 --\n",
      "-- Generation 293 --\n",
      "-- Generation 294 --\n",
      "-- Generation 295 --\n",
      "-- Generation 296 --\n",
      "-- Generation 297 --\n",
      "-- Generation 298 --\n",
      "-- Generation 299 --\n",
      "-- Generation 300 --\n",
      "-- Generation 301 --\n",
      "-- Generation 302 --\n",
      "-- Generation 303 --\n",
      "-- Generation 304 --\n",
      "-- Generation 305 --\n",
      "-- Generation 306 --\n",
      "-- Generation 307 --\n",
      "-- Generation 308 --\n",
      "-- Generation 309 --\n",
      "-- Generation 310 --\n",
      "-- Generation 311 --\n",
      "-- Generation 312 --\n",
      "-- Generation 313 --\n",
      "-- Generation 314 --\n",
      "-- Generation 315 --\n",
      "-- Generation 316 --\n",
      "-- Generation 317 --\n",
      "-- Generation 318 --\n",
      "-- Generation 319 --\n",
      "-- Generation 320 --\n",
      "-- Generation 321 --\n",
      "-- Generation 322 --\n",
      "-- Generation 323 --\n",
      "-- Generation 324 --\n",
      "-- Generation 325 --\n",
      "-- Generation 326 --\n",
      "-- Generation 327 --\n",
      "-- Generation 328 --\n",
      "-- Generation 329 --\n",
      "-- Generation 330 --\n",
      "-- Generation 331 --\n",
      "-- Generation 332 --\n",
      "-- Generation 333 --\n",
      "-- Generation 334 --\n",
      "-- Generation 335 --\n",
      "-- Generation 336 --\n",
      "-- Generation 337 --\n",
      "-- Generation 338 --\n",
      "-- Generation 339 --\n",
      "-- Generation 340 --\n",
      "-- Generation 341 --\n",
      "-- Generation 342 --\n",
      "-- Generation 343 --\n",
      "-- Generation 344 --\n",
      "-- Generation 345 --\n",
      "-- Generation 346 --\n",
      "-- Generation 347 --\n",
      "-- Generation 348 --\n",
      "-- Generation 349 --\n",
      "-- Generation 350 --\n",
      "-- Generation 351 --\n",
      "-- Generation 352 --\n",
      "-- Generation 353 --\n",
      "-- Generation 354 --\n",
      "-- Generation 355 --\n",
      "-- Generation 356 --\n",
      "-- Generation 357 --\n",
      "-- Generation 358 --\n",
      "-- Generation 359 --\n",
      "-- Generation 360 --\n",
      "-- Generation 361 --\n",
      "-- Generation 362 --\n",
      "-- Generation 363 --\n",
      "18 26 322\n",
      "22 1000 1562\n",
      "-- Generation 364 --\n",
      "-- Generation 365 --\n",
      "-- Generation 366 --\n",
      "-- Generation 367 --\n",
      "-- Generation 368 --\n",
      "-- Generation 369 --\n",
      "-- Generation 370 --\n",
      "-- Generation 371 --\n",
      "23 14 634\n",
      "-- Generation 372 --\n",
      "-- Generation 373 --\n",
      "-- Generation 374 --\n",
      "-- Generation 375 --\n",
      "-- Generation 376 --\n",
      "-- Generation 377 --\n",
      "-- Generation 378 --\n",
      "-- Generation 379 --\n",
      "-- Generation 380 --\n",
      "-- Generation 381 --\n",
      "-- Generation 382 --\n",
      "-- Generation 383 --\n",
      "-- Generation 384 --\n",
      "-- Generation 385 --\n",
      "-- Generation 386 --\n",
      "-- Generation 387 --\n",
      "20 29 358\n",
      "-- Generation 388 --\n",
      "15 3 261\n",
      "-- Generation 389 --\n",
      "-- Generation 390 --\n",
      "17 10 1225\n",
      "-- Generation 391 --\n",
      "-- Generation 392 --\n",
      "-- Generation 393 --\n",
      "17 27 575\n",
      "-- Generation 394 --\n",
      "-- Generation 395 --\n",
      "-- Generation 396 --\n",
      "-- Generation 397 --\n",
      "-- Generation 398 --\n",
      "-- Generation 399 --\n",
      "-- Generation 400 --\n",
      "17 2 1213\n",
      "-- Generation 401 --\n",
      "-- Generation 402 --\n",
      "18 12 1174\n",
      "-- Generation 403 --\n",
      "-- Generation 404 --\n",
      "-- Generation 405 --\n",
      "-- Generation 406 --\n",
      "-- Generation 407 --\n",
      "19 55 485\n",
      "-- Generation 408 --\n",
      "-- Generation 409 --\n",
      "-- Generation 410 --\n",
      "-- Generation 411 --\n",
      "18 10 1126\n",
      "-- Generation 412 --\n",
      "-- Generation 413 --\n",
      "-- Generation 414 --\n",
      "-- Generation 415 --\n",
      "-- Generation 416 --\n",
      "-- Generation 417 --\n",
      "-- Generation 418 --\n",
      "-- Generation 419 --\n",
      "-- Generation 420 --\n",
      "-- Generation 421 --\n",
      "-- Generation 422 --\n",
      "-- Generation 423 --\n",
      "-- Generation 424 --\n",
      "-- Generation 425 --\n",
      "28 11 517\n",
      "-- Generation 426 --\n",
      "-- Generation 427 --\n"
     ]
    },
    {
     "ename": "KeyboardInterrupt",
     "evalue": "",
     "output_type": "error",
     "traceback": [
      "\u001B[1;31m---------------------------------------------------------------------------\u001B[0m",
      "\u001B[1;31mKeyboardInterrupt\u001B[0m                         Traceback (most recent call last)",
      "\u001B[1;32m~\\AppData\\Local\\Temp/ipykernel_16836/1945222369.py\u001B[0m in \u001B[0;36m<module>\u001B[1;34m\u001B[0m\n\u001B[0;32m     10\u001B[0m     \u001B[1;31m# Evaluate offspring\u001B[0m\u001B[1;33m\u001B[0m\u001B[1;33m\u001B[0m\u001B[1;33m\u001B[0m\u001B[0m\n\u001B[0;32m     11\u001B[0m     \u001B[0minvalid_inds\u001B[0m \u001B[1;33m=\u001B[0m \u001B[1;33m[\u001B[0m\u001B[0mind\u001B[0m \u001B[1;32mfor\u001B[0m \u001B[0mind\u001B[0m \u001B[1;32min\u001B[0m \u001B[0moffspring\u001B[0m \u001B[1;32mif\u001B[0m \u001B[1;32mnot\u001B[0m \u001B[0mind\u001B[0m\u001B[1;33m.\u001B[0m\u001B[0mfitness\u001B[0m\u001B[1;33m.\u001B[0m\u001B[0mvalid\u001B[0m\u001B[1;33m]\u001B[0m\u001B[1;33m\u001B[0m\u001B[1;33m\u001B[0m\u001B[0m\n\u001B[1;32m---> 12\u001B[1;33m     \u001B[0mfitnesses\u001B[0m \u001B[1;33m=\u001B[0m \u001B[1;33m[\u001B[0m\u001B[0mtoolbox\u001B[0m\u001B[1;33m.\u001B[0m\u001B[0mevaluate\u001B[0m\u001B[1;33m(\u001B[0m\u001B[0mind\u001B[0m\u001B[1;33m,\u001B[0m\u001B[0mmyNet\u001B[0m\u001B[1;33m)\u001B[0m \u001B[1;32mfor\u001B[0m \u001B[0mind\u001B[0m \u001B[1;32min\u001B[0m \u001B[0minvalid_inds\u001B[0m\u001B[1;33m]\u001B[0m\u001B[1;33m\u001B[0m\u001B[1;33m\u001B[0m\u001B[0m\n\u001B[0m\u001B[0;32m     13\u001B[0m     \u001B[1;32mfor\u001B[0m \u001B[0mind\u001B[0m\u001B[1;33m,\u001B[0m \u001B[0mfit\u001B[0m \u001B[1;32min\u001B[0m \u001B[0mzip\u001B[0m\u001B[1;33m(\u001B[0m\u001B[0minvalid_inds\u001B[0m\u001B[1;33m,\u001B[0m \u001B[0mfitnesses\u001B[0m\u001B[1;33m)\u001B[0m\u001B[1;33m:\u001B[0m\u001B[1;33m\u001B[0m\u001B[1;33m\u001B[0m\u001B[0m\n\u001B[0;32m     14\u001B[0m         \u001B[0mind\u001B[0m\u001B[1;33m.\u001B[0m\u001B[0mfitness\u001B[0m\u001B[1;33m.\u001B[0m\u001B[0mvalues\u001B[0m \u001B[1;33m=\u001B[0m \u001B[0mfit\u001B[0m\u001B[1;33m\u001B[0m\u001B[1;33m\u001B[0m\u001B[0m\n",
      "\u001B[1;32m~\\AppData\\Local\\Temp/ipykernel_16836/1945222369.py\u001B[0m in \u001B[0;36m<listcomp>\u001B[1;34m(.0)\u001B[0m\n\u001B[0;32m     10\u001B[0m     \u001B[1;31m# Evaluate offspring\u001B[0m\u001B[1;33m\u001B[0m\u001B[1;33m\u001B[0m\u001B[1;33m\u001B[0m\u001B[0m\n\u001B[0;32m     11\u001B[0m     \u001B[0minvalid_inds\u001B[0m \u001B[1;33m=\u001B[0m \u001B[1;33m[\u001B[0m\u001B[0mind\u001B[0m \u001B[1;32mfor\u001B[0m \u001B[0mind\u001B[0m \u001B[1;32min\u001B[0m \u001B[0moffspring\u001B[0m \u001B[1;32mif\u001B[0m \u001B[1;32mnot\u001B[0m \u001B[0mind\u001B[0m\u001B[1;33m.\u001B[0m\u001B[0mfitness\u001B[0m\u001B[1;33m.\u001B[0m\u001B[0mvalid\u001B[0m\u001B[1;33m]\u001B[0m\u001B[1;33m\u001B[0m\u001B[1;33m\u001B[0m\u001B[0m\n\u001B[1;32m---> 12\u001B[1;33m     \u001B[0mfitnesses\u001B[0m \u001B[1;33m=\u001B[0m \u001B[1;33m[\u001B[0m\u001B[0mtoolbox\u001B[0m\u001B[1;33m.\u001B[0m\u001B[0mevaluate\u001B[0m\u001B[1;33m(\u001B[0m\u001B[0mind\u001B[0m\u001B[1;33m,\u001B[0m\u001B[0mmyNet\u001B[0m\u001B[1;33m)\u001B[0m \u001B[1;32mfor\u001B[0m \u001B[0mind\u001B[0m \u001B[1;32min\u001B[0m \u001B[0minvalid_inds\u001B[0m\u001B[1;33m]\u001B[0m\u001B[1;33m\u001B[0m\u001B[1;33m\u001B[0m\u001B[0m\n\u001B[0m\u001B[0;32m     13\u001B[0m     \u001B[1;32mfor\u001B[0m \u001B[0mind\u001B[0m\u001B[1;33m,\u001B[0m \u001B[0mfit\u001B[0m \u001B[1;32min\u001B[0m \u001B[0mzip\u001B[0m\u001B[1;33m(\u001B[0m\u001B[0minvalid_inds\u001B[0m\u001B[1;33m,\u001B[0m \u001B[0mfitnesses\u001B[0m\u001B[1;33m)\u001B[0m\u001B[1;33m:\u001B[0m\u001B[1;33m\u001B[0m\u001B[1;33m\u001B[0m\u001B[0m\n\u001B[0;32m     14\u001B[0m         \u001B[0mind\u001B[0m\u001B[1;33m.\u001B[0m\u001B[0mfitness\u001B[0m\u001B[1;33m.\u001B[0m\u001B[0mvalues\u001B[0m \u001B[1;33m=\u001B[0m \u001B[0mfit\u001B[0m\u001B[1;33m\u001B[0m\u001B[1;33m\u001B[0m\u001B[0m\n",
      "\u001B[1;32m~\\AppData\\Local\\Temp/ipykernel_16836/2241699803.py\u001B[0m in \u001B[0;36mevaluate\u001B[1;34m(indiv, myNet)\u001B[0m\n\u001B[0;32m      2\u001B[0m     \u001B[0mmyNet\u001B[0m\u001B[1;33m.\u001B[0m\u001B[0msetWeightsLinear\u001B[0m\u001B[1;33m(\u001B[0m\u001B[0mindiv\u001B[0m\u001B[1;33m)\u001B[0m\u001B[1;33m\u001B[0m\u001B[1;33m\u001B[0m\u001B[0m\n\u001B[0;32m      3\u001B[0m     \u001B[0mmax_timestep\u001B[0m \u001B[1;33m=\u001B[0m \u001B[1;36m1000\u001B[0m\u001B[1;33m\u001B[0m\u001B[1;33m\u001B[0m\u001B[0m\n\u001B[1;32m----> 4\u001B[1;33m     \u001B[0mscore\u001B[0m\u001B[1;33m,\u001B[0m\u001B[0mcorrect_direction\u001B[0m\u001B[1;33m,\u001B[0m\u001B[0mincorrect_direction\u001B[0m\u001B[1;33m,\u001B[0m\u001B[0mtimestep\u001B[0m\u001B[1;33m,\u001B[0m\u001B[0mtimestep_tracker\u001B[0m\u001B[1;33m,\u001B[0m\u001B[0mtotal_direction_changes\u001B[0m\u001B[1;33m,\u001B[0m\u001B[0mgame_over\u001B[0m \u001B[1;33m=\u001B[0m \u001B[0mrun_game\u001B[0m\u001B[1;33m(\u001B[0m\u001B[0mdisplay\u001B[0m\u001B[1;33m,\u001B[0m\u001B[0mmyNet\u001B[0m\u001B[1;33m,\u001B[0m\u001B[0msnake_game\u001B[0m\u001B[1;33m,\u001B[0m\u001B[0mmax_timestep\u001B[0m\u001B[1;33m=\u001B[0m\u001B[0mmax_timestep\u001B[0m\u001B[1;33m)\u001B[0m\u001B[1;33m\u001B[0m\u001B[1;33m\u001B[0m\u001B[0m\n\u001B[0m\u001B[0;32m      5\u001B[0m     \u001B[1;32mif\u001B[0m \u001B[0mscore\u001B[0m \u001B[1;33m==\u001B[0m \u001B[1;36m0\u001B[0m \u001B[1;32mand\u001B[0m \u001B[0mtimestep_tracker\u001B[0m \u001B[1;33m>=\u001B[0m\u001B[0mmax_timestep\u001B[0m\u001B[1;33m:\u001B[0m\u001B[1;33m\u001B[0m\u001B[1;33m\u001B[0m\u001B[0m\n\u001B[0;32m      6\u001B[0m         \u001B[1;32mreturn\u001B[0m \u001B[1;33m-\u001B[0m\u001B[1;36m2\u001B[0m\u001B[1;33m,\u001B[0m\u001B[1;36m0\u001B[0m\u001B[1;33m,\u001B[0m\u001B[1;36m0\u001B[0m\u001B[1;33m,\u001B[0m\u001B[1;36m0\u001B[0m\u001B[1;33m,\u001B[0m\u001B[1;36m0\u001B[0m\u001B[1;33m\u001B[0m\u001B[1;33m\u001B[0m\u001B[0m\n",
      "\u001B[1;32m~\\AppData\\Local\\Temp/ipykernel_16836/3222998768.py\u001B[0m in \u001B[0;36mrun_game\u001B[1;34m(display, brain, snake_game, headless, max_timestep)\u001B[0m\n\u001B[0;32m     41\u001B[0m             \u001B[1;32mreturn\u001B[0m \u001B[0mnew_snake_direction\u001B[0m\u001B[1;33m\u001B[0m\u001B[1;33m\u001B[0m\u001B[0m\n\u001B[0;32m     42\u001B[0m \u001B[1;33m\u001B[0m\u001B[0m\n\u001B[1;32m---> 43\u001B[1;33m         \u001B[0mnext_direction\u001B[0m \u001B[1;33m=\u001B[0m \u001B[0mmove_ai\u001B[0m\u001B[1;33m(\u001B[0m\u001B[0mbrain\u001B[0m\u001B[1;33m)\u001B[0m\u001B[1;33m\u001B[0m\u001B[1;33m\u001B[0m\u001B[0m\n\u001B[0m\u001B[0;32m     44\u001B[0m         \u001B[1;32mif\u001B[0m \u001B[0msnake_game\u001B[0m\u001B[1;33m.\u001B[0m\u001B[0msnake_direction\u001B[0m \u001B[1;33m!=\u001B[0m \u001B[0mnext_direction\u001B[0m\u001B[1;33m:\u001B[0m\u001B[1;33m\u001B[0m\u001B[1;33m\u001B[0m\u001B[0m\n\u001B[0;32m     45\u001B[0m             \u001B[0mtotal_direction_changes\u001B[0m \u001B[1;33m+=\u001B[0m\u001B[1;36m1\u001B[0m\u001B[1;33m\u001B[0m\u001B[1;33m\u001B[0m\u001B[0m\n",
      "\u001B[1;32m~\\AppData\\Local\\Temp/ipykernel_16836/3222998768.py\u001B[0m in \u001B[0;36mmove_ai\u001B[1;34m(brain)\u001B[0m\n\u001B[0;32m     27\u001B[0m             \u001B[0mfood_sensor\u001B[0m \u001B[1;33m=\u001B[0m \u001B[1;33m[\u001B[0m\u001B[0msnake_game\u001B[0m\u001B[1;33m.\u001B[0m\u001B[0mfood_direction\u001B[0m\u001B[1;33m(\u001B[0m\u001B[0mdirection\u001B[0m\u001B[1;33m)\u001B[0m \u001B[1;32mfor\u001B[0m \u001B[0mdirection\u001B[0m \u001B[1;32min\u001B[0m \u001B[0mdirections\u001B[0m\u001B[1;33m]\u001B[0m\u001B[1;33m\u001B[0m\u001B[1;33m\u001B[0m\u001B[0m\n\u001B[0;32m     28\u001B[0m             \u001B[1;31m#print(food_sensor)\u001B[0m\u001B[1;33m\u001B[0m\u001B[1;33m\u001B[0m\u001B[1;33m\u001B[0m\u001B[0m\n\u001B[1;32m---> 29\u001B[1;33m             \u001B[0moutput\u001B[0m \u001B[1;33m=\u001B[0m \u001B[0mbrain\u001B[0m\u001B[1;33m.\u001B[0m\u001B[0mfeed_forward\u001B[0m\u001B[1;33m(\u001B[0m\u001B[0mblocked_sensor\u001B[0m \u001B[1;33m+\u001B[0m \u001B[0mfood_sensor\u001B[0m\u001B[1;33m+\u001B[0m\u001B[1;33m[\u001B[0m\u001B[0msnake_game\u001B[0m\u001B[1;33m.\u001B[0m\u001B[0msense_food_distance\u001B[0m\u001B[1;33m(\u001B[0m\u001B[1;33m)\u001B[0m\u001B[1;33m]\u001B[0m\u001B[1;33m)\u001B[0m\u001B[1;33m\u001B[0m\u001B[1;33m\u001B[0m\u001B[0m\n\u001B[0m\u001B[0;32m     30\u001B[0m             \u001B[1;31m#print(snake_game.sense_food_distance())\u001B[0m\u001B[1;33m\u001B[0m\u001B[1;33m\u001B[0m\u001B[1;33m\u001B[0m\u001B[0m\n\u001B[0;32m     31\u001B[0m             \u001B[0mdecision\u001B[0m \u001B[1;33m=\u001B[0m \u001B[0mnp\u001B[0m\u001B[1;33m.\u001B[0m\u001B[0margmax\u001B[0m\u001B[1;33m(\u001B[0m\u001B[0moutput\u001B[0m\u001B[1;33m,\u001B[0m\u001B[0maxis\u001B[0m\u001B[1;33m=\u001B[0m\u001B[1;36m0\u001B[0m\u001B[1;33m)\u001B[0m\u001B[1;33m\u001B[0m\u001B[1;33m\u001B[0m\u001B[0m\n",
      "\u001B[1;32m~\\AppData\\Local\\Temp/ipykernel_16836/1025779990.py\u001B[0m in \u001B[0;36mfeed_forward\u001B[1;34m(self, inputs)\u001B[0m\n\u001B[0;32m     30\u001B[0m         \u001B[0mh2\u001B[0m \u001B[1;33m=\u001B[0m \u001B[1;33m[\u001B[0m\u001B[0mself\u001B[0m\u001B[1;33m.\u001B[0m\u001B[0mReLU\u001B[0m\u001B[1;33m(\u001B[0m\u001B[0mx\u001B[0m\u001B[1;33m)\u001B[0m \u001B[1;32mfor\u001B[0m \u001B[0mx\u001B[0m \u001B[1;32min\u001B[0m \u001B[0mh2\u001B[0m\u001B[1;33m]\u001B[0m              \u001B[1;31m# Activate hidden layer 2\u001B[0m\u001B[1;33m\u001B[0m\u001B[1;33m\u001B[0m\u001B[0m\n\u001B[0;32m     31\u001B[0m \u001B[1;33m\u001B[0m\u001B[0m\n\u001B[1;32m---> 32\u001B[1;33m         \u001B[0moutput\u001B[0m \u001B[1;33m=\u001B[0m \u001B[0mnp\u001B[0m\u001B[1;33m.\u001B[0m\u001B[0mdot\u001B[0m\u001B[1;33m(\u001B[0m\u001B[0mself\u001B[0m\u001B[1;33m.\u001B[0m\u001B[0mw_h2_o\u001B[0m\u001B[1;33m,\u001B[0m \u001B[0mh2\u001B[0m\u001B[1;33m)\u001B[0m             \u001B[1;31m# feed to output layer\u001B[0m\u001B[1;33m\u001B[0m\u001B[1;33m\u001B[0m\u001B[0m\n\u001B[0m\u001B[0;32m     33\u001B[0m         \u001B[1;31m#output = [self.sigmoid(x) for x in output]   # Activate output layer\u001B[0m\u001B[1;33m\u001B[0m\u001B[1;33m\u001B[0m\u001B[1;33m\u001B[0m\u001B[0m\n\u001B[0;32m     34\u001B[0m         \u001B[1;32mreturn\u001B[0m \u001B[0mself\u001B[0m\u001B[1;33m.\u001B[0m\u001B[0msoftmax\u001B[0m\u001B[1;33m(\u001B[0m\u001B[0moutput\u001B[0m\u001B[1;33m)\u001B[0m\u001B[1;33m\u001B[0m\u001B[1;33m\u001B[0m\u001B[0m\n",
      "\u001B[1;32m<__array_function__ internals>\u001B[0m in \u001B[0;36mdot\u001B[1;34m(*args, **kwargs)\u001B[0m\n",
      "\u001B[1;31mKeyboardInterrupt\u001B[0m: "
     ]
    }
   ],
   "source": [
    "wandb.init(project=\"EVAC\", entity=\"samk\")\n",
    "for g in range(NGEN):\n",
    "    print(\"-- Generation %i --\" % g)\n",
    "\n",
    "    # Generate offspring using VarOr\n",
    "    offspring = algorithms.varOr(pop, toolbox, LAMBDA, CXPB, MUTPB)\n",
    "    # Note that the MUTPB is a bit different here. It is the proportion of individuals that will be mutated, rather than crossed over.\n",
    "    # So with varOr MUTPB + CXPB <= 1.0\n",
    "\n",
    "    # Evaluate offspring\n",
    "    invalid_inds = [ind for ind in offspring if not ind.fitness.valid]\n",
    "    fitnesses = [toolbox.evaluate(ind,myNet) for ind in invalid_inds]\n",
    "    for ind, fit in zip(invalid_inds, fitnesses):\n",
    "        ind.fitness.values = fit\n",
    "\n",
    "    nextGenOffspring = toolbox.select(pop + offspring, MU)\n",
    "    nextGenOffspring = list(map(toolbox.clone, nextGenOffspring))\n",
    "    pop[:] = nextGenOffspring\n",
    "\n",
    "    hof.update(pop) #This version keeps the HoF a constant size. See also hof.insert()\n",
    "\n",
    "    record = stats.compile(pop)\n",
    "\n",
    "    logbook.record(gen=g, **record)\n",
    "\n",
    "    wandb.log({\"average_score\": logbook[-1][\"avg\"][0],\n",
    "               \"current_gen\":g,\n",
    "               \"min_score\": logbook[-1][\"min\"][0],\n",
    "               \"max_score\": logbook[-1][\"max\"][0],\n",
    "               \"std_score\": logbook[-1][\"std\"][0],\n",
    "               \"average_timestamp\": logbook[-1][\"avg\"][1],\n",
    "               \"min_timestamp\": logbook[-1][\"min\"][1],\n",
    "               \"max_timestamp\": logbook[-1][\"max\"][1],\n",
    "               \"std_timestamp\": logbook[-1][\"std\"][1]\n",
    "               })\n",
    "\n",
    "\n",
    "\n"
   ],
   "metadata": {
    "collapsed": false,
    "pycharm": {
     "name": "#%%\n"
    }
   }
  },
  {
   "cell_type": "code",
   "execution_count": null,
   "outputs": [],
   "source": [
    "logbook[0]"
   ],
   "metadata": {
    "collapsed": false,
    "pycharm": {
     "name": "#%%\n"
    }
   }
  },
  {
   "cell_type": "code",
   "execution_count": null,
   "outputs": [],
   "source": [
    "record"
   ],
   "metadata": {
    "collapsed": false,
    "pycharm": {
     "name": "#%%\n"
    }
   }
  },
  {
   "cell_type": "code",
   "execution_count": null,
   "outputs": [],
   "source": [
    "import matplotlib.pyplot as plt\n",
    "%matplotlib inline\n",
    "\n",
    "gen = logbook.select(\"gen\")\n",
    "_min = logbook.select(\"min\")\n",
    "_max = logbook.select(\"max\")\n",
    "avgs = logbook.select(\"avg\")\n",
    "stds = logbook.select(\"std\")"
   ],
   "metadata": {
    "collapsed": false,
    "pycharm": {
     "name": "#%%\n"
    }
   }
  },
  {
   "cell_type": "code",
   "execution_count": null,
   "outputs": [],
   "source": [],
   "metadata": {
    "collapsed": false,
    "pycharm": {
     "name": "#%%\n"
    }
   }
  },
  {
   "cell_type": "code",
   "execution_count": null,
   "outputs": [],
   "source": [
    "avgs_score = [item[0] for item in avgs]\n",
    "avgs_timestep = [item[1] for item in avgs]"
   ],
   "metadata": {
    "collapsed": false,
    "pycharm": {
     "name": "#%%\n"
    }
   }
  },
  {
   "cell_type": "code",
   "execution_count": null,
   "outputs": [],
   "source": [
    "plt.rc('axes', labelsize=14)\n",
    "plt.rc('xtick', labelsize=14)\n",
    "plt.rc('ytick', labelsize=14)\n",
    "plt.rc('legend', fontsize=14)\n",
    "\n",
    "fig, ax1 = plt.subplots()\n",
    "line1 = ax1.plot(gen, avgs_score)\n",
    "ax1.set_xlabel(\"Generation\")\n",
    "ax1.set_ylabel(\"Fitness (score)\")"
   ],
   "metadata": {
    "collapsed": false,
    "pycharm": {
     "name": "#%%\n"
    }
   }
  },
  {
   "cell_type": "code",
   "execution_count": null,
   "outputs": [],
   "source": [
    "fig2, ax2 = plt.subplots()\n",
    "line2 = ax2.plot(gen, avgs_timestep)\n",
    "ax2.set_xlabel(\"Generation\")\n",
    "ax2.set_ylabel(\"Fitness (timestamp)\")"
   ],
   "metadata": {
    "collapsed": false,
    "pycharm": {
     "name": "#%%\n"
    }
   }
  },
  {
   "cell_type": "code",
   "execution_count": null,
   "outputs": [],
   "source": [
    "if not HEADLESS:\n",
    "    display = DisplayGame(XSIZE,YSIZE)"
   ],
   "metadata": {
    "collapsed": false,
    "pycharm": {
     "name": "#%%\n"
    }
   }
  },
  {
   "cell_type": "markdown",
   "metadata": {},
   "source": [
    "Below is what you would use for your evaluation. You would also use it to display your final (pickled and loaded) solution, with headless = False."
   ]
  },
  {
   "cell_type": "markdown",
   "metadata": {},
   "source": [
    "If you have run without headless (i.e. with the display) you will need to reset your kernel to run again. This appears to be an IPython issue with Turtle, but if you have a way to deal with that, do please let me know. You will probable only want to run it one-at-a-time anyway."
   ]
  },
  {
   "cell_type": "code",
   "execution_count": null,
   "outputs": [],
   "source": [
    "bestInd = tools.selBest(pop, 1)[0]"
   ],
   "metadata": {
    "collapsed": false,
    "pycharm": {
     "name": "#%%\n"
    }
   }
  },
  {
   "cell_type": "code",
   "execution_count": null,
   "outputs": [],
   "source": [
    "myNet.setWeightsLinear(bestInd)"
   ],
   "metadata": {
    "collapsed": false,
    "pycharm": {
     "name": "#%%\n"
    }
   }
  },
  {
   "cell_type": "code",
   "execution_count": null,
   "metadata": {},
   "outputs": [],
   "source": [
    "final_run = run_game(display,myNet,snake_game, headless=HEADLESS)"
   ]
  },
  {
   "cell_type": "code",
   "execution_count": null,
   "outputs": [],
   "source": [
    "final_run"
   ],
   "metadata": {
    "collapsed": false,
    "pycharm": {
     "name": "#%%\n"
    }
   }
  },
  {
   "cell_type": "code",
   "execution_count": null,
   "outputs": [],
   "source": [
    "wandb.log({\"final_score\": final_run[0]})"
   ],
   "metadata": {
    "collapsed": false,
    "pycharm": {
     "name": "#%%\n"
    }
   }
  },
  {
   "cell_type": "code",
   "execution_count": null,
   "metadata": {},
   "outputs": [],
   "source": [
    "if not HEADLESS:\n",
    "    turtle.done()\n"
   ]
  },
  {
   "cell_type": "code",
   "execution_count": null,
   "outputs": [],
   "source": [
    "if not HEADLESS:\n",
    "    turtle.bye()\n"
   ],
   "metadata": {
    "collapsed": false,
    "pycharm": {
     "name": "#%%\n"
    }
   }
  },
  {
   "cell_type": "code",
   "execution_count": null,
   "outputs": [],
   "source": [],
   "metadata": {
    "collapsed": false,
    "pycharm": {
     "name": "#%%\n"
    }
   }
  },
  {
   "cell_type": "code",
   "execution_count": null,
   "outputs": [],
   "source": [],
   "metadata": {
    "collapsed": false,
    "pycharm": {
     "name": "#%%\n"
    }
   }
  }
 ],
 "metadata": {
  "kernelspec": {
   "display_name": "Python 3",
   "language": "python",
   "name": "python3"
  },
  "language_info": {
   "codemirror_mode": {
    "name": "ipython",
    "version": 3
   },
   "file_extension": ".py",
   "mimetype": "text/x-python",
   "name": "python",
   "nbconvert_exporter": "python",
   "pygments_lexer": "ipython3",
   "version": "3.6.13"
  }
 },
 "nbformat": 4,
 "nbformat_minor": 4
}