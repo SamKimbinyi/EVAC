{
 "cells": [
  {
   "cell_type": "markdown",
   "metadata": {},
   "source": [
    "This version of the snake game allows you to implement and run your evolutionary algorithm"
   ]
  },
  {
   "cell_type": "code",
   "execution_count": 333,
   "metadata": {},
   "outputs": [],
   "source": [
    "import random\n",
    "import time\n",
    "import turtle\n",
    "import random\n",
    "from datetime import datetime\n",
    "\n",
    "from deap import base\n",
    "from deap import creator\n",
    "from deap import tools\n",
    "from deap import algorithms"
   ]
  },
  {
   "cell_type": "code",
   "execution_count": 334,
   "metadata": {},
   "outputs": [],
   "source": [
    "XSIZE = YSIZE = 16 # Number of grid cells in each direction (do not change this)"
   ]
  },
  {
   "cell_type": "code",
   "execution_count": 335,
   "outputs": [],
   "source": [
    "from enum import  Enum\n",
    "\n",
    "class Directions(Enum):\n",
    "    UP = 0\n",
    "    UP_RIGHT = 1\n",
    "    RIGHT = 2\n",
    "    DOWN_RIGHT = 3\n",
    "    DOWN = 4\n",
    "    DOWN_LEFT = 6\n",
    "    LEFT = 7\n",
    "    UP_LEFT = 8"
   ],
   "metadata": {
    "collapsed": false,
    "pycharm": {
     "name": "#%%\n"
    }
   }
  },
  {
   "cell_type": "markdown",
   "metadata": {},
   "source": [
    "Change headless to True when evolving your solution. You can then pickle your final solution, and run it with this set to True to visualize the result, if you wish. Note that, when using Turtle,  to run it again properly you might need to go to restart your kernel after the visualization has finished."
   ]
  },
  {
   "cell_type": "markdown",
   "metadata": {},
   "source": [
    "If you are running on the cloud, or on Google Colab, you can chose to remove the turtle and display code altogether and only run headless. You could then pickle your best solution and use this code to see it play."
   ]
  },
  {
   "cell_type": "code",
   "execution_count": 336,
   "metadata": {},
   "outputs": [],
   "source": [
    "HEADLESS = True"
   ]
  },
  {
   "cell_type": "code",
   "execution_count": 337,
   "metadata": {},
   "outputs": [],
   "source": [
    "class DisplayGame:\n",
    "    def __init__(self, XSIZE, YSIZE):\n",
    "        # SCREEN\n",
    "        self.win = turtle.Screen()\n",
    "        self.win.title(\"EVCO Snake game\")\n",
    "        self.win.bgcolor(\"grey\")\n",
    "        self.win.setup(width=(XSIZE*20)+40,height=(YSIZE*20)+40)\n",
    "        #self.win.screensize((XSIZE*20)+20,(YSIZE*20)+20)\n",
    "        self.win.tracer(0)\n",
    "\n",
    "        #Snake Head\n",
    "        self.head = turtle.Turtle()\n",
    "        self.head.shape(\"square\")\n",
    "        self.head.color(\"black\")\n",
    "\n",
    "        # Snake food\n",
    "        self.food = turtle.Turtle()\n",
    "        self.food.shape(\"circle\")\n",
    "        self.food.color(\"yellow\")\n",
    "        self.food.penup()\n",
    "        self.food.shapesize(0.55, 0.55)\n",
    "        self.segments = []\n",
    "\n",
    "    def reset(self, snake):\n",
    "        self.segments = []\n",
    "        self.head.penup()\n",
    "        self.food.goto(-500, -500)\n",
    "        self.head.goto(-500, -500)\n",
    "        for i in range(len(snake)-1):\n",
    "            self.add_snake_segment()\n",
    "        self.update_segment_positions(snake)\n",
    "       \n",
    "    def update_food(self,new_food):\n",
    "        self.food.goto(((new_food[1]-9)*20)+20, (((9-new_food[0])*20)-10)-20)\n",
    "        \n",
    "    def update_segment_positions(self, snake):\n",
    "        self.head.goto(((snake[0][1]-9)*20)+20, (((9-snake[0][0])*20)-10)-20)\n",
    "        for i in range(len(self.segments)):\n",
    "            self.segments[i].goto(((snake[i+1][1]-9)*20)+20, (((9-snake[i+1][0])*20)-10)-20)\n",
    "\n",
    "    def add_snake_segment(self):\n",
    "        self.new_segment = turtle.Turtle()\n",
    "        self.new_segment.speed(0)\n",
    "        self.new_segment.shape(\"square\")\n",
    "        self.new_segment.color(random.choice([\"green\",'black','red','blue']))\n",
    "        self.new_segment.penup()\n",
    "        self.segments.append(self.new_segment)"
   ]
  },
  {
   "cell_type": "code",
   "execution_count": 338,
   "metadata": {},
   "outputs": [],
   "source": [
    "class snake:\n",
    "    def __init__(self, _XSIZE, _YSIZE):\n",
    "        self.XSIZE = _XSIZE\n",
    "        self.YSIZE = _YSIZE\n",
    "        self.reset()\n",
    "        self.directions = [\"up\",\"up_right\",\"right\",\"down_right\",\"down\",\"down_left\",\"left\",\"up_left\"]\n",
    "\n",
    "    def reset(self):\n",
    "        self.snake = [[8,10], [8,9], [8,8], [8,7], [8,6], [8,5], [8,4], [8,3], [8,2], [8,1],[8,0] ]# Initial snake co-ordinates [ypos,xpos]    \n",
    "        self.food = self.place_food()\n",
    "        self.ahead = []\n",
    "        self.snake_direction = \"right\"\n",
    "\n",
    "    def place_food(self):\n",
    "        self.food = [random.randint(1, (YSIZE-2)), random.randint(1, (XSIZE-2))]\n",
    "        while (self.food in self.snake):\n",
    "            self.food = [random.randint(1, (YSIZE-2)), random.randint(1, (XSIZE-2))]\n",
    "        return( self.food )\n",
    "    \n",
    "    def update_snake_position(self):\n",
    "        self.snake.insert(0, [self.snake[0][0] + (self.snake_direction == \"down\" and 1) + (self.snake_direction == \"up\" and -1), self.snake[0][1] + (self.snake_direction == \"left\" and -1) + (self.snake_direction == \"right\" and 1)])\n",
    "\n",
    "    def food_eaten(self):\n",
    "        if self.snake[0] == self.food:                                            # When snake eats the food\n",
    "            return True\n",
    "        else:    \n",
    "            last = self.snake.pop()  # [1] If it does not eat the food, it moves forward and so last tail item is removed\n",
    "            return False\n",
    "            \n",
    "    def snake_turns_into_self(self):\n",
    "        if self.snake[0] in self.snake[1:]:\n",
    "            return True\n",
    "        else:\n",
    "            return False\n",
    "\n",
    "    def snake_hit_wall(self):\n",
    "        if self.snake[0][0] == 0 or self.snake[0][0] == (YSIZE-1) or self.snake[0][1] == 0 or self.snake[0][1] == (XSIZE-1):\n",
    "            return True\n",
    "        else:\n",
    "            return False\n",
    "\n",
    "    # Example sensing functions\n",
    "    def look(self,direction):\n",
    "        vision_list = []\n",
    "        vision_location=self.snake[0]\n",
    "        distance_counter = 1\n",
    "        while vision_location[0] > 0 and vision_location[0] < (YSIZE-1) and vision_location[1] > 0 and vision_location[1] < (XSIZE-1):\n",
    "            if direction == \"up\":\n",
    "                coord = (self.snake[0][0] - distance_counter, self.snake[0][1])\n",
    "            if direction == \"up_right\":\n",
    "                coord = (self.snake[0][0] +distance_counter , self.snake[0][1] -distance_counter)\n",
    "            if direction == \"right\":\n",
    "                coord = (self.snake[0][0]+ distance_counter , self.snake[0][1])\n",
    "            if direction == \"down_right\":\n",
    "                coord = (self.snake[0][0] + distance_counter, self.snake[0][1] +distance_counter)\n",
    "            if direction == \"down\":\n",
    "                coord = (self.snake[0][0], self.snake[0][1]+distance_counter)\n",
    "            if direction == \"down_left\":\n",
    "                coord = (self.snake[0][0] -distance_counter, self.snake[0][1] +distance_counter)\n",
    "            if direction == \"left\":\n",
    "                coord = (self.snake[0][0]-distance_counter, self.snake[0][1])\n",
    "            if direction == \"up_left\":\n",
    "                coord = (self.snake[0][0] -distance_counter, self.snake[0][1] -distance_counter)\n",
    "            vision_location = coord\n",
    "            vision_list.append({coord:distance_counter})\n",
    "            distance_counter+=1\n",
    "        return vision_list\n",
    "\n",
    "\n",
    "    def sense_blocked_wall(self,direction):\n",
    "        blocked_walls = []\n",
    "        for index,snake_direction in enumerate(self.directions):\n",
    "            blocked_walls.append(max(sna))\n",
    "\n",
    "\n",
    "        \n",
    "    def sense_food(self,direction):\n",
    "        look_direction = self.look(direction)\n",
    "        return self.food == look_direction\n",
    "\n",
    "    def sense_self(self,direction):\n",
    "        pass\n",
    "\n",
    "\n",
    "    def sense_food_distance(self):\n",
    "        snake_array = np.asarray(self.snake[0])\n",
    "        food_array = np.asarray(self.food)\n",
    "        max_distance = np.sqrt(XSIZE**2 + YSIZE**2)\n",
    "        return np.linalg.norm(snake_array-food_array+1)/max_distance\n"
   ]
  },
  {
   "cell_type": "code",
   "execution_count": 339,
   "outputs": [],
   "source": [
    "import numpy as np\n",
    "import math\n",
    "\n",
    "class MLP(object):\n",
    "    def __init__(self, numInput, numHidden1, numHidden2, numOutput):\n",
    "        self.fitness = 0\n",
    "        self.numInput = numInput + 1 # Add bias node from input to hidden layer 1 only\n",
    "        self.numHidden1 = numHidden1 # Feel free to adapt the code to add more biases if you wish\n",
    "        self.numHidden2 = numHidden2\n",
    "        self.numOutput = numOutput\n",
    "\n",
    "        self.w_i_h1 = np.random.randn(self.numHidden1, self.numInput)\n",
    "        self.w_h1_h2 = np.random.randn(self.numHidden2, self.numHidden1)\n",
    "        self.w_h2_o = np.random.randn(self.numOutput, self.numHidden2)\n",
    "\n",
    "        self.ReLU = lambda x : max(0,x)\n",
    "\n",
    "    def softmax(self, x):\n",
    "        e_x = np.exp(x - np.max(x))\n",
    "        return e_x / e_x.sum()\n",
    "\n",
    "    def feed_forward(self, inputs):\n",
    "        inputsBias = inputs[:]\n",
    "        inputsBias.insert(len(inputs),1)             # Add bias input\n",
    "\n",
    "        h1 = np.dot(self.w_i_h1, inputsBias)         # feed input to hidden layer 1\n",
    "        h1 = [self.ReLU(x) for x in h1]              # Activate hidden layer1\n",
    "\n",
    "        h2 = np.dot(self.w_h1_h2, h1)                 # feed layer 1 to hidden layer 2\n",
    "        h2 = [self.ReLU(x) for x in h2]              # Activate hidden layer 2\n",
    "\n",
    "        output = np.dot(self.w_h2_o, h2)             # feed to output layer\n",
    "        #output = [self.sigmoid(x) for x in output]   # Activate output layer\n",
    "        return self.softmax(output)\n",
    "\n",
    "    def getWeightsLinear(self):\n",
    "        flat_w_i_h1 = list(self.w_i_h1.flatten())\n",
    "        flat_w_h1_h2 = list(self.w_h1_h2.flatten())\n",
    "        flat_w_h2_o = list(self.w_h2_o.flatten())\n",
    "        return( flat_w_i_h1 + flat_w_h1_h2 + flat_w_h2_o )\n",
    "\n",
    "    def setWeightsLinear(self, Wgenome):\n",
    "        numWeights_I_H1 = self.numHidden1 * self.numInput\n",
    "        numWeights_H1_H2 = self.numHidden2 * self.numHidden1\n",
    "        numWeights_H2_O = self.numOutput * self.numHidden2\n",
    "\n",
    "        self.w_i_h1 = np.array(Wgenome[:numWeights_I_H1])\n",
    "        self.w_i_h1 = self.w_i_h1.reshape((self.numHidden1, self.numInput))\n",
    "\n",
    "        self.w_h1_h2 = np.array(Wgenome[numWeights_I_H1:(numWeights_H1_H2+numWeights_I_H1)])\n",
    "        self.w_h1_h2 = self.w_h1_h2.reshape((self.numHidden2, self.numHidden1))\n",
    "\n",
    "        self.w_h2_o = np.array(Wgenome[(numWeights_H1_H2+numWeights_I_H1):])\n",
    "        self.w_h2_o = self.w_h2_o.reshape((self.numOutput, self.numHidden2))"
   ],
   "metadata": {
    "collapsed": false,
    "pycharm": {
     "name": "#%%\n"
    }
   }
  },
  {
   "cell_type": "code",
   "execution_count": 340,
   "outputs": [],
   "source": [
    "random.seed(datetime.now()) # Set a random seed from the clock\n",
    "\n",
    "numInputNodes = 17\n",
    "numHiddenNodes1 = 20\n",
    "numHiddenNodes2 = 6\n",
    "numOutputNodes = 4\n",
    "\n",
    "IND_SIZE = ((numInputNodes+1) * numHiddenNodes1) + (numHiddenNodes1 * numHiddenNodes2) + (numHiddenNodes2 * numOutputNodes)"
   ],
   "metadata": {
    "collapsed": false,
    "pycharm": {
     "name": "#%%\n"
    }
   }
  },
  {
   "cell_type": "code",
   "execution_count": 341,
   "outputs": [],
   "source": [
    "myNet = MLP(numInputNodes, numHiddenNodes1, numHiddenNodes2, numOutputNodes)"
   ],
   "metadata": {
    "collapsed": false,
    "pycharm": {
     "name": "#%%\n"
    }
   }
  },
  {
   "cell_type": "code",
   "execution_count": 342,
   "metadata": {},
   "outputs": [],
   "source": [
    "snake_game = snake(XSIZE,YSIZE)"
   ]
  },
  {
   "cell_type": "code",
   "execution_count": 343,
   "outputs": [],
   "source": [
    "creator.create(\"FitnessMax\", base.Fitness, weights=(20,1,-0.5))\n",
    "creator.create(\"Individual\", list, fitness=creator.FitnessMax)\n",
    "\n",
    "toolbox = base.Toolbox()\n",
    "toolbox.register(\"attr_float\", random.uniform, -1, 1.0)\n",
    "toolbox.register(\"individual\", tools.initRepeat, creator.Individual,\n",
    "                 toolbox.attr_float, n=IND_SIZE)"
   ],
   "metadata": {
    "collapsed": false,
    "pycharm": {
     "name": "#%%\n"
    }
   }
  },
  {
   "cell_type": "code",
   "execution_count": 344,
   "outputs": [],
   "source": [
    "def evaluate(indiv, myNet):\n",
    "    myNet.setWeightsLinear(indiv)\n",
    "    max_timestep = 1000\n",
    "    score,correct_direction,incorrect_direction,timestep,timestep_tracker,total_direction_changes,game_over = run_game(display,myNet,snake_game,max_timestep=max_timestep)\n",
    "    if score == 0 and timestep_tracker >=max_timestep:\n",
    "        return -2,0,0,0,0\n",
    "    if score >=15:\n",
    "        print(score,timestep_tracker,timestep)\n",
    "    return score,timestep,timestep_tracker"
   ],
   "metadata": {
    "collapsed": false,
    "pycharm": {
     "name": "#%%\n"
    }
   }
  },
  {
   "cell_type": "code",
   "execution_count": 345,
   "outputs": [],
   "source": [
    "toolbox.register(\"evaluate\", evaluate)\n",
    "toolbox.register(\"select\",tools.selNSGA2)\n",
    "\n",
    "toolbox.register(\"mutate\", tools.mutGaussian, mu=0.0, sigma=0.5, indpb=0.5)\n",
    "toolbox.register(\"population\", tools.initRepeat, list, toolbox.individual)\n",
    "toolbox.register(\"mate\", tools.cxUniform, indpb=0.35)"
   ],
   "metadata": {
    "collapsed": false,
    "pycharm": {
     "name": "#%%\n"
    }
   }
  },
  {
   "cell_type": "code",
   "execution_count": 346,
   "outputs": [],
   "source": [
    "def pareto_eq(ind1, ind2):\n",
    "    return np.allclose(ind1.fitness.values, ind2.fitness.values)"
   ],
   "metadata": {
    "collapsed": false,
    "pycharm": {
     "name": "#%%\n"
    }
   }
  },
  {
   "cell_type": "code",
   "execution_count": 347,
   "outputs": [],
   "source": [
    "import wandb\n",
    "\n",
    "NGEN = 600\n",
    "popSize = MU = 1000\n",
    "LAMBDA = 200\n",
    "CXPB = 0.25\n",
    "MUTPB = 0.75\n",
    "\n",
    "\n",
    "wandb.config = {\n",
    "    \"NGEN\": NGEN,\n",
    "    \"popSize\": popSize,\n",
    "    \"LAMBDA\": LAMBDA,\n",
    "    \"CXPB\":CXPB,\n",
    "    \"MUTPB\": MUTPB\n",
    "}"
   ],
   "metadata": {
    "collapsed": false,
    "pycharm": {
     "name": "#%%\n"
    }
   }
  },
  {
   "cell_type": "code",
   "execution_count": 348,
   "outputs": [],
   "source": [
    "pop = toolbox.population(n=popSize)\n",
    "hof = tools.ParetoFront(similar=pareto_eq)\n",
    "\n",
    "stats = tools.Statistics(lambda ind: ind.fitness.values)\n",
    "stats.register(\"avg\", np.mean, axis=0)\n",
    "stats.register(\"std\", np.std, axis=0)\n",
    "stats.register(\"min\", np.min, axis=0)\n",
    "stats.register(\"max\", np.max, axis=0)\n",
    "logbook = tools.Logbook() #"
   ],
   "metadata": {
    "collapsed": false,
    "pycharm": {
     "name": "#%%\n"
    }
   }
  },
  {
   "cell_type": "code",
   "execution_count": 349,
   "outputs": [],
   "source": [
    "def run_game(display,brain,snake_game, headless=True,max_timestep=100):\n",
    "\n",
    "    score = 0\n",
    "    timestep = 0\n",
    "    timestep_tracker = 0\n",
    "    total_direction_changes = 0\n",
    "    snake_game.reset()\n",
    "    if not headless:\n",
    "        display.reset(snake_game.snake)\n",
    "        display.win.update()\n",
    "    snake_game.place_food()\n",
    "    game_over = False\n",
    "    snake_direction = \"right\"\n",
    "    correct_direction_steps= 0\n",
    "    incorrect_direction_steps = 0\n",
    "    flag = True\n",
    "    while not game_over:\n",
    "\n",
    "        # ****YOUR AI BELOW HERE******************\n",
    "\n",
    "        # Here is a very silly random snake controller. It moves with a correlated random walk, and the only sensible decision it makes is not to turn directly back on itself (possible in this game)\n",
    "        # *** Replace this with your evolved controller here to decide on the direction the snake should take*\n",
    "        directions = [\"up\",\"up_right\",\"right\",\"down_right\",\"down\",\"down_left\",\"left\",\"up_left\"]\n",
    "\n",
    "        def move_ai(brain):\n",
    "            direction_vision = [snake_game.look(direction) for direction in directions]\n",
    "            print(direction_vision)\n",
    "            #inputs = blocked_sensor + food_sensor+[snake_game.sense_food_distance()]\n",
    "            #print(snake_game.sense_food_distance())\n",
    "            decision = np.argmax(output,axis=0)\n",
    "\n",
    "            if decision  == 0:\n",
    "                new_snake_direction = \"up\"\n",
    "            elif decision == 1:\n",
    "                new_snake_direction = \"right\"\n",
    "            elif decision == 2:\n",
    "                new_snake_direction = \"down\"\n",
    "            elif decision ==3:\n",
    "                new_snake_direction = \"left\"\n",
    "            return new_snake_direction\n",
    "\n",
    "        next_direction = move_ai(brain)\n",
    "        if snake_game.snake_direction != next_direction:\n",
    "            total_direction_changes +=1\n",
    "        snake_game.snake_direction = next_direction\n",
    "        timestep+=1\n",
    "        timestep_tracker+=1\n",
    "        if timestep_tracker >= max_timestep:\n",
    "            game_over = True\n",
    "        # Here is an example sensing function\n",
    "        for direction in directions:\n",
    "            if snake_game.sense_blocked_direction(direction):\n",
    "                #print(f\"BLOCKED AT {direction} \")\n",
    "                pass\n",
    "        if snake_game.food_direction(snake_game.snake_direction):\n",
    "            correct_direction_steps +=1\n",
    "        else:\n",
    "            incorrect_direction_steps +=1\n",
    "\n",
    "\n",
    "\n",
    "\n",
    "        # ****YOUR AI ABOVE HERE******************\n",
    "\n",
    "        snake_game.update_snake_position()\n",
    "\n",
    "        # Check if food is eaten\n",
    "        if snake_game.food_eaten():\n",
    "            snake_game.place_food()\n",
    "            #print(\"Food Eaten!\")\n",
    "            score += 1\n",
    "            timestep_tracker = 0\n",
    "\n",
    "            if not headless: display.add_snake_segment()\n",
    "\n",
    "        # Game over if the snake runs over itself\n",
    "        if snake_game.snake_turns_into_self():\n",
    "            game_over = True\n",
    "            #print(\"Snake turned into itself!\")\n",
    "\n",
    "        # Game over if the snake goes through a wall\n",
    "        if snake_game.snake_hit_wall():\n",
    "            game_over = True\n",
    "            #print(\"Snake hit a wall!\")\n",
    "\n",
    "        if not headless:\n",
    "            display.update_food(snake_game.food)\n",
    "            display.update_segment_positions(snake_game.snake)\n",
    "            display.win.update()\n",
    "            time.sleep(0.05) # Change this to modify the speed the game runs at when displayed.\n",
    "\n",
    "    #print(\"FINAL score - \" + str(score))\n",
    "    #print(\"\\nFINAL timestep - \" + str(timestep))\n",
    "\n",
    "    return (score,correct_direction_steps,incorrect_direction_steps,timestep,timestep_tracker,total_direction_changes,game_over)\n"
   ],
   "metadata": {
    "collapsed": false,
    "pycharm": {
     "name": "#%%\n"
    }
   }
  },
  {
   "cell_type": "code",
   "execution_count": 350,
   "outputs": [
    {
     "name": "stdout",
     "output_type": "stream",
     "text": [
      "[[{(7, 10): 1}, {(6, 10): 2}, {(5, 10): 3}, {(4, 10): 4}, {(3, 10): 5}, {(2, 10): 6}, {(1, 10): 7}, {(0, 10): 8}], [{(9, 9): 1}, {(10, 8): 2}, {(11, 7): 3}, {(12, 6): 4}, {(13, 5): 5}, {(14, 4): 6}, {(15, 3): 7}], [{(9, 10): 1}, {(10, 10): 2}, {(11, 10): 3}, {(12, 10): 4}, {(13, 10): 5}, {(14, 10): 6}, {(15, 10): 7}], [{(9, 11): 1}, {(10, 12): 2}, {(11, 13): 3}, {(12, 14): 4}, {(13, 15): 5}], [{(8, 11): 1}, {(8, 12): 2}, {(8, 13): 3}, {(8, 14): 4}, {(8, 15): 5}], [{(7, 11): 1}, {(6, 12): 2}, {(5, 13): 3}, {(4, 14): 4}, {(3, 15): 5}], [{(7, 10): 1}, {(6, 10): 2}, {(5, 10): 3}, {(4, 10): 4}, {(3, 10): 5}, {(2, 10): 6}, {(1, 10): 7}, {(0, 10): 8}], [{(7, 9): 1}, {(6, 8): 2}, {(5, 7): 3}, {(4, 6): 4}, {(3, 5): 5}, {(2, 4): 6}, {(1, 3): 7}, {(0, 2): 8}]]\n"
     ]
    },
    {
     "ename": "NameError",
     "evalue": "name 'output' is not defined",
     "output_type": "error",
     "traceback": [
      "\u001B[1;31m---------------------------------------------------------------------------\u001B[0m",
      "\u001B[1;31mNameError\u001B[0m                                 Traceback (most recent call last)",
      "\u001B[1;32m~\\AppData\\Local\\Temp/ipykernel_16044/1270151338.py\u001B[0m in \u001B[0;36m<module>\u001B[1;34m\u001B[0m\n\u001B[1;32m----> 1\u001B[1;33m \u001B[0mfitnesses\u001B[0m \u001B[1;33m=\u001B[0m \u001B[1;33m[\u001B[0m\u001B[0mtoolbox\u001B[0m\u001B[1;33m.\u001B[0m\u001B[0mevaluate\u001B[0m\u001B[1;33m(\u001B[0m\u001B[0mind\u001B[0m\u001B[1;33m,\u001B[0m\u001B[0mmyNet\u001B[0m\u001B[1;33m)\u001B[0m \u001B[1;32mfor\u001B[0m \u001B[0mind\u001B[0m \u001B[1;32min\u001B[0m \u001B[0mpop\u001B[0m\u001B[1;33m]\u001B[0m\u001B[1;33m\u001B[0m\u001B[1;33m\u001B[0m\u001B[0m\n\u001B[0m\u001B[0;32m      2\u001B[0m \u001B[0mprint\u001B[0m\u001B[1;33m(\u001B[0m\u001B[0mfitnesses\u001B[0m\u001B[1;33m)\u001B[0m\u001B[1;33m\u001B[0m\u001B[1;33m\u001B[0m\u001B[0m\n\u001B[0;32m      3\u001B[0m \u001B[1;32mfor\u001B[0m \u001B[0mind\u001B[0m\u001B[1;33m,\u001B[0m \u001B[0mfit\u001B[0m \u001B[1;32min\u001B[0m \u001B[0mzip\u001B[0m\u001B[1;33m(\u001B[0m\u001B[0mpop\u001B[0m\u001B[1;33m,\u001B[0m \u001B[0mfitnesses\u001B[0m\u001B[1;33m)\u001B[0m\u001B[1;33m:\u001B[0m\u001B[1;33m\u001B[0m\u001B[1;33m\u001B[0m\u001B[0m\n\u001B[0;32m      4\u001B[0m     \u001B[0mind\u001B[0m\u001B[1;33m.\u001B[0m\u001B[0mfitness\u001B[0m\u001B[1;33m.\u001B[0m\u001B[0mvalues\u001B[0m \u001B[1;33m=\u001B[0m \u001B[0mfit\u001B[0m\u001B[1;33m\u001B[0m\u001B[1;33m\u001B[0m\u001B[0m\n",
      "\u001B[1;32m~\\AppData\\Local\\Temp/ipykernel_16044/1270151338.py\u001B[0m in \u001B[0;36m<listcomp>\u001B[1;34m(.0)\u001B[0m\n\u001B[1;32m----> 1\u001B[1;33m \u001B[0mfitnesses\u001B[0m \u001B[1;33m=\u001B[0m \u001B[1;33m[\u001B[0m\u001B[0mtoolbox\u001B[0m\u001B[1;33m.\u001B[0m\u001B[0mevaluate\u001B[0m\u001B[1;33m(\u001B[0m\u001B[0mind\u001B[0m\u001B[1;33m,\u001B[0m\u001B[0mmyNet\u001B[0m\u001B[1;33m)\u001B[0m \u001B[1;32mfor\u001B[0m \u001B[0mind\u001B[0m \u001B[1;32min\u001B[0m \u001B[0mpop\u001B[0m\u001B[1;33m]\u001B[0m\u001B[1;33m\u001B[0m\u001B[1;33m\u001B[0m\u001B[0m\n\u001B[0m\u001B[0;32m      2\u001B[0m \u001B[0mprint\u001B[0m\u001B[1;33m(\u001B[0m\u001B[0mfitnesses\u001B[0m\u001B[1;33m)\u001B[0m\u001B[1;33m\u001B[0m\u001B[1;33m\u001B[0m\u001B[0m\n\u001B[0;32m      3\u001B[0m \u001B[1;32mfor\u001B[0m \u001B[0mind\u001B[0m\u001B[1;33m,\u001B[0m \u001B[0mfit\u001B[0m \u001B[1;32min\u001B[0m \u001B[0mzip\u001B[0m\u001B[1;33m(\u001B[0m\u001B[0mpop\u001B[0m\u001B[1;33m,\u001B[0m \u001B[0mfitnesses\u001B[0m\u001B[1;33m)\u001B[0m\u001B[1;33m:\u001B[0m\u001B[1;33m\u001B[0m\u001B[1;33m\u001B[0m\u001B[0m\n\u001B[0;32m      4\u001B[0m     \u001B[0mind\u001B[0m\u001B[1;33m.\u001B[0m\u001B[0mfitness\u001B[0m\u001B[1;33m.\u001B[0m\u001B[0mvalues\u001B[0m \u001B[1;33m=\u001B[0m \u001B[0mfit\u001B[0m\u001B[1;33m\u001B[0m\u001B[1;33m\u001B[0m\u001B[0m\n",
      "\u001B[1;32m~\\AppData\\Local\\Temp/ipykernel_16044/2241699803.py\u001B[0m in \u001B[0;36mevaluate\u001B[1;34m(indiv, myNet)\u001B[0m\n\u001B[0;32m      2\u001B[0m     \u001B[0mmyNet\u001B[0m\u001B[1;33m.\u001B[0m\u001B[0msetWeightsLinear\u001B[0m\u001B[1;33m(\u001B[0m\u001B[0mindiv\u001B[0m\u001B[1;33m)\u001B[0m\u001B[1;33m\u001B[0m\u001B[1;33m\u001B[0m\u001B[0m\n\u001B[0;32m      3\u001B[0m     \u001B[0mmax_timestep\u001B[0m \u001B[1;33m=\u001B[0m \u001B[1;36m1000\u001B[0m\u001B[1;33m\u001B[0m\u001B[1;33m\u001B[0m\u001B[0m\n\u001B[1;32m----> 4\u001B[1;33m     \u001B[0mscore\u001B[0m\u001B[1;33m,\u001B[0m\u001B[0mcorrect_direction\u001B[0m\u001B[1;33m,\u001B[0m\u001B[0mincorrect_direction\u001B[0m\u001B[1;33m,\u001B[0m\u001B[0mtimestep\u001B[0m\u001B[1;33m,\u001B[0m\u001B[0mtimestep_tracker\u001B[0m\u001B[1;33m,\u001B[0m\u001B[0mtotal_direction_changes\u001B[0m\u001B[1;33m,\u001B[0m\u001B[0mgame_over\u001B[0m \u001B[1;33m=\u001B[0m \u001B[0mrun_game\u001B[0m\u001B[1;33m(\u001B[0m\u001B[0mdisplay\u001B[0m\u001B[1;33m,\u001B[0m\u001B[0mmyNet\u001B[0m\u001B[1;33m,\u001B[0m\u001B[0msnake_game\u001B[0m\u001B[1;33m,\u001B[0m\u001B[0mmax_timestep\u001B[0m\u001B[1;33m=\u001B[0m\u001B[0mmax_timestep\u001B[0m\u001B[1;33m)\u001B[0m\u001B[1;33m\u001B[0m\u001B[1;33m\u001B[0m\u001B[0m\n\u001B[0m\u001B[0;32m      5\u001B[0m     \u001B[1;32mif\u001B[0m \u001B[0mscore\u001B[0m \u001B[1;33m==\u001B[0m \u001B[1;36m0\u001B[0m \u001B[1;32mand\u001B[0m \u001B[0mtimestep_tracker\u001B[0m \u001B[1;33m>=\u001B[0m\u001B[0mmax_timestep\u001B[0m\u001B[1;33m:\u001B[0m\u001B[1;33m\u001B[0m\u001B[1;33m\u001B[0m\u001B[0m\n\u001B[0;32m      6\u001B[0m         \u001B[1;32mreturn\u001B[0m \u001B[1;33m-\u001B[0m\u001B[1;36m2\u001B[0m\u001B[1;33m,\u001B[0m\u001B[1;36m0\u001B[0m\u001B[1;33m,\u001B[0m\u001B[1;36m0\u001B[0m\u001B[1;33m,\u001B[0m\u001B[1;36m0\u001B[0m\u001B[1;33m,\u001B[0m\u001B[1;36m0\u001B[0m\u001B[1;33m\u001B[0m\u001B[1;33m\u001B[0m\u001B[0m\n",
      "\u001B[1;32m~\\AppData\\Local\\Temp/ipykernel_16044/2794103592.py\u001B[0m in \u001B[0;36mrun_game\u001B[1;34m(display, brain, snake_game, headless, max_timestep)\u001B[0m\n\u001B[0;32m     40\u001B[0m             \u001B[1;32mreturn\u001B[0m \u001B[0mnew_snake_direction\u001B[0m\u001B[1;33m\u001B[0m\u001B[1;33m\u001B[0m\u001B[0m\n\u001B[0;32m     41\u001B[0m \u001B[1;33m\u001B[0m\u001B[0m\n\u001B[1;32m---> 42\u001B[1;33m         \u001B[0mnext_direction\u001B[0m \u001B[1;33m=\u001B[0m \u001B[0mmove_ai\u001B[0m\u001B[1;33m(\u001B[0m\u001B[0mbrain\u001B[0m\u001B[1;33m)\u001B[0m\u001B[1;33m\u001B[0m\u001B[1;33m\u001B[0m\u001B[0m\n\u001B[0m\u001B[0;32m     43\u001B[0m         \u001B[1;32mif\u001B[0m \u001B[0msnake_game\u001B[0m\u001B[1;33m.\u001B[0m\u001B[0msnake_direction\u001B[0m \u001B[1;33m!=\u001B[0m \u001B[0mnext_direction\u001B[0m\u001B[1;33m:\u001B[0m\u001B[1;33m\u001B[0m\u001B[1;33m\u001B[0m\u001B[0m\n\u001B[0;32m     44\u001B[0m             \u001B[0mtotal_direction_changes\u001B[0m \u001B[1;33m+=\u001B[0m\u001B[1;36m1\u001B[0m\u001B[1;33m\u001B[0m\u001B[1;33m\u001B[0m\u001B[0m\n",
      "\u001B[1;32m~\\AppData\\Local\\Temp/ipykernel_16044/2794103592.py\u001B[0m in \u001B[0;36mmove_ai\u001B[1;34m(brain)\u001B[0m\n\u001B[0;32m     28\u001B[0m             \u001B[1;31m#inputs = blocked_sensor + food_sensor+[snake_game.sense_food_distance()]\u001B[0m\u001B[1;33m\u001B[0m\u001B[1;33m\u001B[0m\u001B[1;33m\u001B[0m\u001B[0m\n\u001B[0;32m     29\u001B[0m             \u001B[1;31m#print(snake_game.sense_food_distance())\u001B[0m\u001B[1;33m\u001B[0m\u001B[1;33m\u001B[0m\u001B[1;33m\u001B[0m\u001B[0m\n\u001B[1;32m---> 30\u001B[1;33m             \u001B[0mdecision\u001B[0m \u001B[1;33m=\u001B[0m \u001B[0mnp\u001B[0m\u001B[1;33m.\u001B[0m\u001B[0margmax\u001B[0m\u001B[1;33m(\u001B[0m\u001B[0moutput\u001B[0m\u001B[1;33m,\u001B[0m\u001B[0maxis\u001B[0m\u001B[1;33m=\u001B[0m\u001B[1;36m0\u001B[0m\u001B[1;33m)\u001B[0m\u001B[1;33m\u001B[0m\u001B[1;33m\u001B[0m\u001B[0m\n\u001B[0m\u001B[0;32m     31\u001B[0m \u001B[1;33m\u001B[0m\u001B[0m\n\u001B[0;32m     32\u001B[0m             \u001B[1;32mif\u001B[0m \u001B[0mdecision\u001B[0m  \u001B[1;33m==\u001B[0m \u001B[1;36m0\u001B[0m\u001B[1;33m:\u001B[0m\u001B[1;33m\u001B[0m\u001B[1;33m\u001B[0m\u001B[0m\n",
      "\u001B[1;31mNameError\u001B[0m: name 'output' is not defined"
     ]
    }
   ],
   "source": [
    "fitnesses = [toolbox.evaluate(ind,myNet) for ind in pop]\n",
    "print(fitnesses)\n",
    "for ind, fit in zip(pop, fitnesses):\n",
    "    ind.fitness.values = fit"
   ],
   "metadata": {
    "collapsed": false,
    "pycharm": {
     "name": "#%%\n"
    }
   }
  },
  {
   "cell_type": "code",
   "execution_count": null,
   "outputs": [],
   "source": [
    "wandb.init(project=\"EVAC\", entity=\"samk\")\n",
    "for g in range(NGEN):\n",
    "    print(\"-- Generation %i --\" % g)\n",
    "\n",
    "    # Generate offspring using VarOr\n",
    "    offspring = algorithms.varOr(pop, toolbox, LAMBDA, CXPB, MUTPB)\n",
    "    # Note that the MUTPB is a bit different here. It is the proportion of individuals that will be mutated, rather than crossed over.\n",
    "    # So with varOr MUTPB + CXPB <= 1.0\n",
    "\n",
    "    # Evaluate offspring\n",
    "    invalid_inds = [ind for ind in offspring if not ind.fitness.valid]\n",
    "    fitnesses = [toolbox.evaluate(ind,myNet) for ind in invalid_inds]\n",
    "    for ind, fit in zip(invalid_inds, fitnesses):\n",
    "        ind.fitness.values = fit\n",
    "\n",
    "    nextGenOffspring = toolbox.select(pop + offspring, MU)\n",
    "    nextGenOffspring = list(map(toolbox.clone, nextGenOffspring))\n",
    "    pop[:] = nextGenOffspring\n",
    "\n",
    "    hof.update(pop) #This version keeps the HoF a constant size. See also hof.insert()\n",
    "\n",
    "    record = stats.compile(pop)\n",
    "\n",
    "    logbook.record(gen=g, **record)\n",
    "\n",
    "    wandb.log({\"average_score\": logbook[-1][\"avg\"][0],\n",
    "               \"current_gen\":g,\n",
    "               \"min_score\": logbook[-1][\"min\"][0],\n",
    "               \"max_score\": logbook[-1][\"max\"][0],\n",
    "               \"std_score\": logbook[-1][\"std\"][0],\n",
    "               \"average_timestamp\": logbook[-1][\"avg\"][1],\n",
    "               \"min_timestamp\": logbook[-1][\"min\"][1],\n",
    "               \"max_timestamp\": logbook[-1][\"max\"][1],\n",
    "               \"std_timestamp\": logbook[-1][\"std\"][1]\n",
    "               })\n",
    "\n",
    "\n",
    "\n"
   ],
   "metadata": {
    "collapsed": false,
    "pycharm": {
     "name": "#%%\n"
    }
   }
  },
  {
   "cell_type": "code",
   "execution_count": null,
   "outputs": [],
   "source": [
    "logbook[0]"
   ],
   "metadata": {
    "collapsed": false,
    "pycharm": {
     "name": "#%%\n"
    }
   }
  },
  {
   "cell_type": "code",
   "execution_count": null,
   "outputs": [],
   "source": [
    "record"
   ],
   "metadata": {
    "collapsed": false,
    "pycharm": {
     "name": "#%%\n"
    }
   }
  },
  {
   "cell_type": "code",
   "execution_count": null,
   "outputs": [],
   "source": [
    "import matplotlib.pyplot as plt\n",
    "%matplotlib inline\n",
    "\n",
    "gen = logbook.select(\"gen\")\n",
    "_min = logbook.select(\"min\")\n",
    "_max = logbook.select(\"max\")\n",
    "avgs = logbook.select(\"avg\")\n",
    "stds = logbook.select(\"std\")"
   ],
   "metadata": {
    "collapsed": false,
    "pycharm": {
     "name": "#%%\n"
    }
   }
  },
  {
   "cell_type": "code",
   "execution_count": null,
   "outputs": [],
   "source": [],
   "metadata": {
    "collapsed": false,
    "pycharm": {
     "name": "#%%\n"
    }
   }
  },
  {
   "cell_type": "code",
   "execution_count": null,
   "outputs": [],
   "source": [
    "avgs_score = [item[0] for item in avgs]\n",
    "avgs_timestep = [item[1] for item in avgs]"
   ],
   "metadata": {
    "collapsed": false,
    "pycharm": {
     "name": "#%%\n"
    }
   }
  },
  {
   "cell_type": "code",
   "execution_count": null,
   "outputs": [],
   "source": [
    "plt.rc('axes', labelsize=14)\n",
    "plt.rc('xtick', labelsize=14)\n",
    "plt.rc('ytick', labelsize=14)\n",
    "plt.rc('legend', fontsize=14)\n",
    "\n",
    "fig, ax1 = plt.subplots()\n",
    "line1 = ax1.plot(gen, avgs_score)\n",
    "ax1.set_xlabel(\"Generation\")\n",
    "ax1.set_ylabel(\"Fitness (score)\")"
   ],
   "metadata": {
    "collapsed": false,
    "pycharm": {
     "name": "#%%\n"
    }
   }
  },
  {
   "cell_type": "code",
   "execution_count": null,
   "outputs": [],
   "source": [
    "fig2, ax2 = plt.subplots()\n",
    "line2 = ax2.plot(gen, avgs_timestep)\n",
    "ax2.set_xlabel(\"Generation\")\n",
    "ax2.set_ylabel(\"Fitness (timestamp)\")"
   ],
   "metadata": {
    "collapsed": false,
    "pycharm": {
     "name": "#%%\n"
    }
   }
  },
  {
   "cell_type": "code",
   "execution_count": null,
   "outputs": [],
   "source": [
    "if not HEADLESS:\n",
    "    display = DisplayGame(XSIZE,YSIZE)"
   ],
   "metadata": {
    "collapsed": false,
    "pycharm": {
     "name": "#%%\n"
    }
   }
  },
  {
   "cell_type": "markdown",
   "metadata": {},
   "source": [
    "Below is what you would use for your evaluation. You would also use it to display your final (pickled and loaded) solution, with headless = False."
   ]
  },
  {
   "cell_type": "markdown",
   "metadata": {},
   "source": [
    "If you have run without headless (i.e. with the display) you will need to reset your kernel to run again. This appears to be an IPython issue with Turtle, but if you have a way to deal with that, do please let me know. You will probable only want to run it one-at-a-time anyway."
   ]
  },
  {
   "cell_type": "code",
   "execution_count": null,
   "outputs": [],
   "source": [
    "bestInd = tools.selBest(pop, 1)[0]"
   ],
   "metadata": {
    "collapsed": false,
    "pycharm": {
     "name": "#%%\n"
    }
   }
  },
  {
   "cell_type": "code",
   "execution_count": null,
   "outputs": [],
   "source": [
    "myNet.setWeightsLinear(bestInd)"
   ],
   "metadata": {
    "collapsed": false,
    "pycharm": {
     "name": "#%%\n"
    }
   }
  },
  {
   "cell_type": "code",
   "execution_count": null,
   "metadata": {},
   "outputs": [],
   "source": [
    "final_run = run_game(display,myNet,snake_game, headless=HEADLESS)"
   ]
  },
  {
   "cell_type": "code",
   "execution_count": null,
   "outputs": [],
   "source": [
    "final_run"
   ],
   "metadata": {
    "collapsed": false,
    "pycharm": {
     "name": "#%%\n"
    }
   }
  },
  {
   "cell_type": "code",
   "execution_count": null,
   "outputs": [],
   "source": [
    "wandb.log({\"final_score\": final_run[0]})"
   ],
   "metadata": {
    "collapsed": false,
    "pycharm": {
     "name": "#%%\n"
    }
   }
  },
  {
   "cell_type": "code",
   "execution_count": null,
   "metadata": {},
   "outputs": [],
   "source": [
    "if not HEADLESS:\n",
    "    turtle.done()\n"
   ]
  },
  {
   "cell_type": "code",
   "execution_count": null,
   "outputs": [],
   "source": [
    "if not HEADLESS:\n",
    "    turtle.bye()\n"
   ],
   "metadata": {
    "collapsed": false,
    "pycharm": {
     "name": "#%%\n"
    }
   }
  },
  {
   "cell_type": "code",
   "execution_count": null,
   "outputs": [],
   "source": [],
   "metadata": {
    "collapsed": false,
    "pycharm": {
     "name": "#%%\n"
    }
   }
  },
  {
   "cell_type": "code",
   "execution_count": null,
   "outputs": [],
   "source": [],
   "metadata": {
    "collapsed": false,
    "pycharm": {
     "name": "#%%\n"
    }
   }
  }
 ],
 "metadata": {
  "kernelspec": {
   "display_name": "Python 3",
   "language": "python",
   "name": "python3"
  },
  "language_info": {
   "codemirror_mode": {
    "name": "ipython",
    "version": 3
   },
   "file_extension": ".py",
   "mimetype": "text/x-python",
   "name": "python",
   "nbconvert_exporter": "python",
   "pygments_lexer": "ipython3",
   "version": "3.6.13"
  }
 },
 "nbformat": 4,
 "nbformat_minor": 4
}